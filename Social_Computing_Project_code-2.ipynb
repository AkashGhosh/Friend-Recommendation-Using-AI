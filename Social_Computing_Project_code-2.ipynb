{
 "cells": [
  {
   "cell_type": "code",
   "execution_count": 1,
   "id": "1ffb1df2",
   "metadata": {},
   "outputs": [
    {
     "ename": "ModuleNotFoundError",
     "evalue": "No module named 'xgboost'",
     "output_type": "error",
     "traceback": [
      "\u001b[0;31m---------------------------------------------------------------------------\u001b[0m",
      "\u001b[0;31mModuleNotFoundError\u001b[0m                       Traceback (most recent call last)",
      "\u001b[0;32m/tmp/ipykernel_20533/2130155963.py\u001b[0m in \u001b[0;36m<module>\u001b[0;34m\u001b[0m\n\u001b[1;32m     16\u001b[0m \u001b[0;32mfrom\u001b[0m \u001b[0msklearn\u001b[0m\u001b[0;34m.\u001b[0m\u001b[0mmodel_selection\u001b[0m \u001b[0;32mimport\u001b[0m \u001b[0mGridSearchCV\u001b[0m\u001b[0;34m\u001b[0m\u001b[0;34m\u001b[0m\u001b[0m\n\u001b[1;32m     17\u001b[0m \u001b[0;32mfrom\u001b[0m \u001b[0msklearn\u001b[0m\u001b[0;34m.\u001b[0m\u001b[0msvm\u001b[0m \u001b[0;32mimport\u001b[0m \u001b[0mSVC\u001b[0m\u001b[0;34m\u001b[0m\u001b[0;34m\u001b[0m\u001b[0m\n\u001b[0;32m---> 18\u001b[0;31m \u001b[0;32mfrom\u001b[0m \u001b[0mxgboost\u001b[0m \u001b[0;32mimport\u001b[0m \u001b[0mXGBClassifier\u001b[0m\u001b[0;34m\u001b[0m\u001b[0;34m\u001b[0m\u001b[0m\n\u001b[0m",
      "\u001b[0;31mModuleNotFoundError\u001b[0m: No module named 'xgboost'"
     ]
    }
   ],
   "source": [
    "import pandas as pd\n",
    "import networkx as nx\n",
    "import matplotlib.pyplot as plt\n",
    "from collections import OrderedDict\n",
    "import numpy as np\n",
    "import seaborn as sns\n",
    "import random\n",
    "import csv\n",
    "import math\n",
    "import pickle\n",
    "from tqdm import tqdm\n",
    "from sklearn.model_selection import RandomizedSearchCV\n",
    "from sklearn.metrics import f1_score\n",
    "from sklearn.ensemble import RandomForestClassifier\n",
    "from sklearn.model_selection import RandomizedSearchCV\n",
    "from sklearn.model_selection import GridSearchCV\n",
    "from sklearn.svm import SVC\n",
    "from xgboost import XGBClassifier\n"
   ]
  },
  {
   "cell_type": "code",
   "execution_count": 39,
   "id": "f5341807",
   "metadata": {},
   "outputs": [
    {
     "name": "stdout",
     "output_type": "stream",
     "text": [
      "Collecting xgboost\n",
      "  Downloading xgboost-1.6.0-py3-none-manylinux2014_x86_64.whl (193.7 MB)\n",
      "\u001b[K     |████████████████████████████████| 193.7 MB 39 kB/s  eta 0:00:01    |██████▏                         | 37.4 MB 289 kB/s eta 0:09:00     |████████████▌                   | 75.6 MB 369 kB/s eta 0:05:20     |█████████████████               | 103.1 MB 262 kB/s eta 0:05:46     |███████████████████             | 115.5 MB 220 kB/s eta 0:05:55\n",
      "\u001b[?25hRequirement already satisfied: numpy in ./anaconda3/envs/pytorch/lib/python3.9/site-packages (from xgboost) (1.22.3)\n",
      "Requirement already satisfied: scipy in ./anaconda3/envs/pytorch/lib/python3.9/site-packages (from xgboost) (1.8.0)\n",
      "Installing collected packages: xgboost\n",
      "Successfully installed xgboost-1.6.0\n"
     ]
    }
   ],
   "source": [
    "!pip install xgboost"
   ]
  },
  {
   "cell_type": "code",
   "execution_count": 2,
   "id": "5403e1e7",
   "metadata": {},
   "outputs": [
    {
     "name": "stdout",
     "output_type": "stream",
     "text": [
      "(6342012, 27)\n",
      "(1585504, 27)\n"
     ]
    }
   ],
   "source": [
    "df_train=pd.read_csv('final_train_features.csv')\n",
    "df_test=pd.read_csv('final_test_features.csv')\n",
    "print(df_train.shape)\n",
    "print(df_test.shape)"
   ]
  },
  {
   "cell_type": "code",
   "execution_count": 4,
   "id": "e3512bdd",
   "metadata": {},
   "outputs": [
    {
     "name": "stdout",
     "output_type": "stream",
     "text": [
      "(3171006, 27)\n",
      "(792752, 27)\n"
     ]
    }
   ],
   "source": [
    "df_train= df_train[df_train['link'].notna()]\n",
    "df_test=df_test[df_test['link'].notna()]\n",
    "print(df_train.shape)\n",
    "print(df_test.shape)"
   ]
  },
  {
   "cell_type": "code",
   "execution_count": 29,
   "id": "8d3c2fbb",
   "metadata": {},
   "outputs": [
    {
     "data": {
      "text/plain": [
       "(515289, 27)"
      ]
     },
     "execution_count": 29,
     "metadata": {},
     "output_type": "execute_result"
    }
   ],
   "source": [
    "data=pd.concat([df_train,df_test])\n",
    "data=data.sample(frac=0.13)\n",
    "data.shape"
   ]
  },
  {
   "cell_type": "code",
   "execution_count": 5,
   "id": "4fc56753",
   "metadata": {},
   "outputs": [
    {
     "data": {
      "text/plain": [
       "(55096, 27)"
      ]
     },
     "execution_count": 5,
     "metadata": {},
     "output_type": "execute_result"
    }
   ],
   "source": [
    "data=pd.concat([df_train,df_test])\n",
    "data=data.sample(frac=0.0139)\n",
    "data.shape"
   ]
  },
  {
   "cell_type": "code",
   "execution_count": 6,
   "id": "5b323204",
   "metadata": {},
   "outputs": [
    {
     "name": "stdout",
     "output_type": "stream",
     "text": [
      "Index(['source_node', 'destination_node', 'link', 'num_followers_s',\n",
      "       'num_followers_d', 'num_followees_s', 'num_followees_d',\n",
      "       'inter_followers', 'inter_followees', 'jaccard_followee',\n",
      "       'jaccard_followers', 'cosine_followers', 'shortest_path',\n",
      "       'cosine_followees', 'adar_index', 'page_rank_s', 'page_rank_d',\n",
      "       'katz_s', 'katz_d', 'hubs_s', 'hubs_d', 'authorities_s',\n",
      "       'authorities_d', 'weight_in', 'weight_out', 'weight_total',\n",
      "       'follows_back'],\n",
      "      dtype='object')\n"
     ]
    }
   ],
   "source": [
    "from sklearn.model_selection import train_test_split\n",
    "df_train, df_test = train_test_split(data, test_size=0.2)\n",
    "print(df_train.columns)"
   ]
  },
  {
   "cell_type": "code",
   "execution_count": 7,
   "id": "919b57b2",
   "metadata": {},
   "outputs": [],
   "source": [
    "X_train=df_train.drop(['source_node','destination_node','link'],axis=1)\n",
    "y_train=df_train.link\n",
    "X_test=df_test.drop(['source_node','destination_node','link'],axis=1)\n",
    "y_test=df_test.link"
   ]
  },
  {
   "cell_type": "code",
   "execution_count": 32,
   "id": "f9af86c5",
   "metadata": {},
   "outputs": [],
   "source": [
    "parameter_grid = {'C': [ 10, 100,200],'gamma': [0.01,0.055, 0.001],'kernel':['rbf']}\n",
    "model2_random=GridSearchCV(estimator =SVC(), param_grid = parameter_grid, \n",
    "                          cv =5, n_jobs = -1, verbose = 50,scoring='f1')        "
   ]
  },
  {
   "cell_type": "code",
   "execution_count": 33,
   "id": "28ba059e",
   "metadata": {},
   "outputs": [
    {
     "name": "stdout",
     "output_type": "stream",
     "text": [
      "Fitting 5 folds for each of 4 candidates, totalling 20 fits\n",
      "[CV 1/5; 1/4] START C=10, gamma=0.01, kernel=rbf................................\n",
      "[CV 1/5; 1/4] END C=10, gamma=0.01, kernel=rbf;, score=0.900 total time=127.0min\n",
      "[CV 5/5; 4/4] START C=100, gamma=0.001, kernel=rbf..............................\n",
      "[CV 5/5; 4/4] END C=100, gamma=0.001, kernel=rbf;, score=0.900 total time=134.3min\n",
      "[CV 2/5; 4/4] START C=100, gamma=0.001, kernel=rbf..............................\n",
      "[CV 2/5; 4/4] END C=100, gamma=0.001, kernel=rbf;, score=0.902 total time=135.2min\n",
      "[CV 5/5; 2/4] START C=10, gamma=0.001, kernel=rbf...............................\n",
      "[CV 5/5; 2/4] END C=10, gamma=0.001, kernel=rbf;, score=0.900 total time=135.3min\n",
      "[CV 4/5; 1/4] START C=10, gamma=0.01, kernel=rbf................................\n",
      "[CV 4/5; 1/4] END C=10, gamma=0.01, kernel=rbf;, score=0.900 total time=136.4min\n",
      "[CV 3/5; 4/4] START C=100, gamma=0.001, kernel=rbf..............................\n",
      "[CV 3/5; 4/4] END C=100, gamma=0.001, kernel=rbf;, score=0.902 total time=138.4min\n",
      "[CV 3/5; 3/4] START C=100, gamma=0.01, kernel=rbf...............................\n",
      "[CV 3/5; 3/4] END C=100, gamma=0.01, kernel=rbf;, score=0.902 total time=141.0min\n",
      "[CV 4/5; 3/4] START C=100, gamma=0.01, kernel=rbf...............................\n",
      "[CV 4/5; 3/4] END C=100, gamma=0.01, kernel=rbf;, score=0.900 total time=141.8min\n",
      "[CV 1/5; 4/4] START C=100, gamma=0.001, kernel=rbf..............................\n",
      "[CV 1/5; 4/4] END C=100, gamma=0.001, kernel=rbf;, score=0.901 total time=147.7min\n",
      "[CV 3/5; 2/4] START C=10, gamma=0.001, kernel=rbf...............................\n",
      "[CV 3/5; 2/4] END C=10, gamma=0.001, kernel=rbf;, score=0.902 total time=149.6min\n",
      "[CV 5/5; 1/4] START C=10, gamma=0.01, kernel=rbf................................\n",
      "[CV 5/5; 1/4] END C=10, gamma=0.01, kernel=rbf;, score=0.900 total time=149.7min\n",
      "[CV 4/5; 4/4] START C=100, gamma=0.001, kernel=rbf..............................\n",
      "[CV 4/5; 4/4] END C=100, gamma=0.001, kernel=rbf;, score=0.900 total time=164.0min\n",
      "[CV 2/5; 3/4] START C=100, gamma=0.01, kernel=rbf...............................\n",
      "[CV 2/5; 3/4] END C=100, gamma=0.01, kernel=rbf;, score=0.901 total time=165.0min\n",
      "[CV 1/5; 3/4] START C=100, gamma=0.01, kernel=rbf...............................\n",
      "[CV 1/5; 3/4] END C=100, gamma=0.01, kernel=rbf;, score=0.900 total time=175.2min\n",
      "[CV 5/5; 3/4] START C=100, gamma=0.01, kernel=rbf...............................\n",
      "[CV 5/5; 3/4] END C=100, gamma=0.01, kernel=rbf;, score=0.900 total time=179.5min\n",
      "[CV 1/5; 2/4] START C=10, gamma=0.001, kernel=rbf...............................\n",
      "[CV 1/5; 2/4] END C=10, gamma=0.001, kernel=rbf;, score=0.901 total time=188.7min\n",
      "[CV 2/5; 1/4] START C=10, gamma=0.01, kernel=rbf................................\n",
      "[CV 2/5; 1/4] END C=10, gamma=0.01, kernel=rbf;, score=0.901 total time=193.4min\n",
      "[CV 2/5; 2/4] START C=10, gamma=0.001, kernel=rbf...............................\n",
      "[CV 2/5; 2/4] END C=10, gamma=0.001, kernel=rbf;, score=0.902 total time=250.1min\n",
      "[CV 4/5; 2/4] START C=10, gamma=0.001, kernel=rbf...............................\n",
      "[CV 4/5; 2/4] END C=10, gamma=0.001, kernel=rbf;, score=0.901 total time=273.7min\n",
      "[CV 3/5; 1/4] START C=10, gamma=0.01, kernel=rbf................................\n",
      "[CV 3/5; 1/4] END C=10, gamma=0.01, kernel=rbf;, score=0.901 total time=279.0min\n"
     ]
    },
    {
     "data": {
      "text/plain": [
       "{'C': 10, 'gamma': 0.001, 'kernel': 'rbf'}"
      ]
     },
     "execution_count": 33,
     "metadata": {},
     "output_type": "execute_result"
    }
   ],
   "source": [
    "model2_random.fit(X_train,y_train)\n",
    "model2_random.best_params_"
   ]
  },
  {
   "cell_type": "code",
   "execution_count": 34,
   "id": "80d19fc8",
   "metadata": {},
   "outputs": [
    {
     "name": "stdout",
     "output_type": "stream",
     "text": [
      "train f1-score is 0.9011470134272197\n",
      "test f1-score is 0.8991926088762372\n"
     ]
    }
   ],
   "source": [
    "train_score = f1_score(y_train,model2_random.predict(X_train))\n",
    "test_score = f1_score(y_test,model2_random.predict(X_test))\n",
    "print(\"train f1-score is\",train_score)\n",
    "print(\"test f1-score is\",test_score)"
   ]
  },
  {
   "cell_type": "code",
   "execution_count": null,
   "id": "e46d887d",
   "metadata": {},
   "outputs": [],
   "source": []
  }
 ],
 "metadata": {
  "kernelspec": {
   "display_name": "Python 3 (ipykernel)",
   "language": "python",
   "name": "python3"
  },
  "language_info": {
   "codemirror_mode": {
    "name": "ipython",
    "version": 3
   },
   "file_extension": ".py",
   "mimetype": "text/x-python",
   "name": "python",
   "nbconvert_exporter": "python",
   "pygments_lexer": "ipython3",
   "version": "3.9.7"
  }
 },
 "nbformat": 4,
 "nbformat_minor": 5
}
