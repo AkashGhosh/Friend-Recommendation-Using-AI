{
  "cells": [
    {
      "cell_type": "code",
      "execution_count": null,
      "metadata": {
        "id": "fvgv-MYVV_oG"
      },
      "outputs": [],
      "source": [
        "#importing all the libraries\n",
        "import pandas as pd\n",
        "import networkx as nx\n",
        "import matplotlib.pyplot as plt\n",
        "from collections import OrderedDict\n",
        "import numpy as np\n",
        "import seaborn as sns\n",
        "import random\n",
        "import csv\n",
        "import math\n",
        "import pickle\n",
        "from tqdm import tqdm\n",
        "from sklearn.model_selection import RandomizedSearchCV\n",
        "from sklearn.metrics import f1_score\n",
        "from sklearn.ensemble import RandomForestClassifier\n",
        "from sklearn.model_selection import RandomizedSearchCV\n",
        "from sklearn.model_selection import GridSearchCV\n",
        "from sklearn.svm import SVC\n"
      ]
    },
    {
      "cell_type": "code",
      "source": [
        "#code to access the google dive\n",
        "from google.colab import drive\n",
        "drive.mount('/content/drive')"
      ],
      "metadata": {
        "id": "GZXX4Tedj-xS"
      },
      "execution_count": null,
      "outputs": []
    },
    {
      "cell_type": "code",
      "execution_count": null,
      "metadata": {
        "id": "xDP5gin_V_oN"
      },
      "outputs": [],
      "source": [
        "#read the data from pandas data drame\n",
        "train_df = pd.read_csv('/content/drive/MyDrive/train.csv')\n"
      ]
    },
    {
      "cell_type": "code",
      "source": [
        "#how the data is looking initially,we just have pair of source and destination which represents connected edges in the graph\n",
        "train_df.head()"
      ],
      "metadata": {
        "colab": {
          "base_uri": "https://localhost:8080/",
          "height": 206
        },
        "id": "-YFMBin56DSn",
        "outputId": "ab79a4aa-68db-4af6-8b29-fc4130494831"
      },
      "execution_count": null,
      "outputs": [
        {
          "output_type": "execute_result",
          "data": {
            "text/plain": [
              "   source_node  destination_node\n",
              "0            1            690569\n",
              "1            1            315892\n",
              "2            1            189226\n",
              "3            2            834328\n",
              "4            2           1615927"
            ],
            "text/html": [
              "\n",
              "  <div id=\"df-97e0be56-5ba2-4dae-8880-6c42aff608e7\">\n",
              "    <div class=\"colab-df-container\">\n",
              "      <div>\n",
              "<style scoped>\n",
              "    .dataframe tbody tr th:only-of-type {\n",
              "        vertical-align: middle;\n",
              "    }\n",
              "\n",
              "    .dataframe tbody tr th {\n",
              "        vertical-align: top;\n",
              "    }\n",
              "\n",
              "    .dataframe thead th {\n",
              "        text-align: right;\n",
              "    }\n",
              "</style>\n",
              "<table border=\"1\" class=\"dataframe\">\n",
              "  <thead>\n",
              "    <tr style=\"text-align: right;\">\n",
              "      <th></th>\n",
              "      <th>source_node</th>\n",
              "      <th>destination_node</th>\n",
              "    </tr>\n",
              "  </thead>\n",
              "  <tbody>\n",
              "    <tr>\n",
              "      <th>0</th>\n",
              "      <td>1</td>\n",
              "      <td>690569</td>\n",
              "    </tr>\n",
              "    <tr>\n",
              "      <th>1</th>\n",
              "      <td>1</td>\n",
              "      <td>315892</td>\n",
              "    </tr>\n",
              "    <tr>\n",
              "      <th>2</th>\n",
              "      <td>1</td>\n",
              "      <td>189226</td>\n",
              "    </tr>\n",
              "    <tr>\n",
              "      <th>3</th>\n",
              "      <td>2</td>\n",
              "      <td>834328</td>\n",
              "    </tr>\n",
              "    <tr>\n",
              "      <th>4</th>\n",
              "      <td>2</td>\n",
              "      <td>1615927</td>\n",
              "    </tr>\n",
              "  </tbody>\n",
              "</table>\n",
              "</div>\n",
              "      <button class=\"colab-df-convert\" onclick=\"convertToInteractive('df-97e0be56-5ba2-4dae-8880-6c42aff608e7')\"\n",
              "              title=\"Convert this dataframe to an interactive table.\"\n",
              "              style=\"display:none;\">\n",
              "        \n",
              "  <svg xmlns=\"http://www.w3.org/2000/svg\" height=\"24px\"viewBox=\"0 0 24 24\"\n",
              "       width=\"24px\">\n",
              "    <path d=\"M0 0h24v24H0V0z\" fill=\"none\"/>\n",
              "    <path d=\"M18.56 5.44l.94 2.06.94-2.06 2.06-.94-2.06-.94-.94-2.06-.94 2.06-2.06.94zm-11 1L8.5 8.5l.94-2.06 2.06-.94-2.06-.94L8.5 2.5l-.94 2.06-2.06.94zm10 10l.94 2.06.94-2.06 2.06-.94-2.06-.94-.94-2.06-.94 2.06-2.06.94z\"/><path d=\"M17.41 7.96l-1.37-1.37c-.4-.4-.92-.59-1.43-.59-.52 0-1.04.2-1.43.59L10.3 9.45l-7.72 7.72c-.78.78-.78 2.05 0 2.83L4 21.41c.39.39.9.59 1.41.59.51 0 1.02-.2 1.41-.59l7.78-7.78 2.81-2.81c.8-.78.8-2.07 0-2.86zM5.41 20L4 18.59l7.72-7.72 1.47 1.35L5.41 20z\"/>\n",
              "  </svg>\n",
              "      </button>\n",
              "      \n",
              "  <style>\n",
              "    .colab-df-container {\n",
              "      display:flex;\n",
              "      flex-wrap:wrap;\n",
              "      gap: 12px;\n",
              "    }\n",
              "\n",
              "    .colab-df-convert {\n",
              "      background-color: #E8F0FE;\n",
              "      border: none;\n",
              "      border-radius: 50%;\n",
              "      cursor: pointer;\n",
              "      display: none;\n",
              "      fill: #1967D2;\n",
              "      height: 32px;\n",
              "      padding: 0 0 0 0;\n",
              "      width: 32px;\n",
              "    }\n",
              "\n",
              "    .colab-df-convert:hover {\n",
              "      background-color: #E2EBFA;\n",
              "      box-shadow: 0px 1px 2px rgba(60, 64, 67, 0.3), 0px 1px 3px 1px rgba(60, 64, 67, 0.15);\n",
              "      fill: #174EA6;\n",
              "    }\n",
              "\n",
              "    [theme=dark] .colab-df-convert {\n",
              "      background-color: #3B4455;\n",
              "      fill: #D2E3FC;\n",
              "    }\n",
              "\n",
              "    [theme=dark] .colab-df-convert:hover {\n",
              "      background-color: #434B5C;\n",
              "      box-shadow: 0px 1px 3px 1px rgba(0, 0, 0, 0.15);\n",
              "      filter: drop-shadow(0px 1px 2px rgba(0, 0, 0, 0.3));\n",
              "      fill: #FFFFFF;\n",
              "    }\n",
              "  </style>\n",
              "\n",
              "      <script>\n",
              "        const buttonEl =\n",
              "          document.querySelector('#df-97e0be56-5ba2-4dae-8880-6c42aff608e7 button.colab-df-convert');\n",
              "        buttonEl.style.display =\n",
              "          google.colab.kernel.accessAllowed ? 'block' : 'none';\n",
              "\n",
              "        async function convertToInteractive(key) {\n",
              "          const element = document.querySelector('#df-97e0be56-5ba2-4dae-8880-6c42aff608e7');\n",
              "          const dataTable =\n",
              "            await google.colab.kernel.invokeFunction('convertToInteractive',\n",
              "                                                     [key], {});\n",
              "          if (!dataTable) return;\n",
              "\n",
              "          const docLinkHtml = 'Like what you see? Visit the ' +\n",
              "            '<a target=\"_blank\" href=https://colab.research.google.com/notebooks/data_table.ipynb>data table notebook</a>'\n",
              "            + ' to learn more about interactive tables.';\n",
              "          element.innerHTML = '';\n",
              "          dataTable['output_type'] = 'display_data';\n",
              "          await google.colab.output.renderOutput(dataTable, element);\n",
              "          const docLink = document.createElement('div');\n",
              "          docLink.innerHTML = docLinkHtml;\n",
              "          element.appendChild(docLink);\n",
              "        }\n",
              "      </script>\n",
              "    </div>\n",
              "  </div>\n",
              "  "
            ]
          },
          "metadata": {},
          "execution_count": 3
        }
      ]
    },
    {
      "cell_type": "code",
      "execution_count": null,
      "metadata": {
        "id": "GpxSNlMvV_oS"
      },
      "outputs": [],
      "source": [
        "#saving the data to a csv file for later use\n",
        "train_df.to_csv('train_withoutheader.csv',header=False,index=False)"
      ]
    },
    {
      "cell_type": "code",
      "execution_count": null,
      "metadata": {
        "colab": {
          "base_uri": "https://localhost:8080/"
        },
        "id": "P9uXUZoDV_oT",
        "outputId": "cae872d3-b15b-4387-9f23-56b7681363f7"
      },
      "outputs": [
        {
          "output_type": "stream",
          "name": "stdout",
          "text": [
            "DiGraph with 1862220 nodes and 9437519 edges\n"
          ]
        }
      ],
      "source": [
        "#using networkx module data for graph analysis\n",
        "g=nx.read_edgelist('train_withoutheader.csv',delimiter=',',create_using=nx.DiGraph(),nodetype=int)\n",
        "print(nx.info(g))"
      ]
    },
    {
      "cell_type": "code",
      "execution_count": null,
      "metadata": {
        "id": "exeBHMwNV_oW"
      },
      "outputs": [],
      "source": [
        "df_small=pd.read_csv('train.csv',nrows=100)"
      ]
    },
    {
      "cell_type": "code",
      "execution_count": null,
      "metadata": {
        "id": "iKrQ5oZaV_oY"
      },
      "outputs": [],
      "source": [
        "g_small = nx.from_pandas_edgelist(df_small,'source_node','destination_node',create_using=nx.DiGraph())"
      ]
    },
    {
      "cell_type": "code",
      "execution_count": null,
      "metadata": {
        "colab": {
          "base_uri": "https://localhost:8080/",
          "height": 319
        },
        "id": "V_bhe9zHV_oZ",
        "outputId": "bf631f03-7be5-4305-e31f-282bee1ba8b0"
      },
      "outputs": [
        {
          "output_type": "display_data",
          "data": {
            "text/plain": [
              "<Figure size 432x288 with 1 Axes>"
            ],
            "image/png": "[encoded data removed]"
          },
          "metadata": {}
        }
      ],
      "source": [
        "#Visualizing the top 100 rows of the graph\n",
        "nx.draw(g_small,with_labels=True)\n",
        "plt.show()"
      ]
    },
    {
      "cell_type": "code",
      "execution_count": null,
      "metadata": {
        "id": "FKqn8JQLV_oa"
      },
      "outputs": [],
      "source": [
        "#Create a dictionary for analysis of the data\n",
        "d=dict(g.in_degree())"
      ]
    },
    {
      "cell_type": "code",
      "execution_count": null,
      "metadata": {
        "id": "7J_uIwIDV_ob"
      },
      "outputs": [],
      "source": [
        "dict1 = OrderedDict(sorted(d.items()))"
      ]
    },
    {
      "cell_type": "code",
      "execution_count": null,
      "metadata": {
        "id": "fKlT-1QqV_oc"
      },
      "outputs": [],
      "source": [
        "#keys stores as nodes and value is the corresponding indegree\n",
        "X=list(dict1.keys())\n",
        "Y=list(dict1.values())"
      ]
    },
    {
      "cell_type": "code",
      "execution_count": null,
      "metadata": {
        "id": "7OutvGONV_od"
      },
      "outputs": [],
      "source": [
        "#Wetook around 1500000 nodes for exploratory data analysis\n",
        "X=X[0:1500000]\n",
        "Y=Y[0:1500000]"
      ]
    },
    {
      "cell_type": "code",
      "execution_count": null,
      "metadata": {
        "colab": {
          "base_uri": "https://localhost:8080/",
          "height": 388
        },
        "id": "7B9x-RsNV_oe",
        "outputId": "bcb7680a-4d85-4b43-c91a-8895809d83d8"
      },
      "outputs": [
        {
          "output_type": "display_data",
          "data": {
            "text/plain": [
              "<Figure size 720x432 with 1 Axes>"
            ],
            "image/png": "[encoded data removed]"
          },
          "metadata": {
            "needs_background": "light"
          }
        }
      ],
      "source": [
        "#Plot the graph using matplotlib\n",
        "#WE can see there are few spikes in the graph which shows that there few people who have high number  of  followers\n",
        "plt.figure(figsize=(10,6))\n",
        "plt.plot(X,Y)\n",
        "plt.xlabel('Person')\n",
        "plt.ylabel('No Of Followers')\n",
        "plt.show()"
      ]
    },
    {
      "cell_type": "code",
      "execution_count": null,
      "metadata": {
        "colab": {
          "base_uri": "https://localhost:8080/"
        },
        "id": "LdkL2JXpV_of",
        "outputId": "4fa643b5-04b3-4e07-9c34-d4a16135b241"
      },
      "outputs": [
        {
          "output_type": "stream",
          "name": "stdout",
          "text": [
            "90 percentile value is 12.0\n",
            "91 percentile value is 13.0\n",
            "92 percentile value is 14.0\n",
            "93 percentile value is 15.0\n",
            "94 percentile value is 17.0\n",
            "95 percentile value is 19.0\n",
            "96 percentile value is 21.0\n",
            "97 percentile value is 24.0\n",
            "98 percentile value is 29.0\n",
            "99 percentile value is 40.0\n",
            "100 percentile value is 552.0\n"
          ]
        }
      ],
      "source": [
        "### 90-100 percentile\n",
        "###Similar analysis:top 1 percent have high indegree means high number of followers\n",
        "for i in range(0,11):\n",
        "    print(90+i,'percentile value is',np.percentile(Y,90+i))"
      ]
    },
    {
      "cell_type": "code",
      "execution_count": null,
      "metadata": {
        "colab": {
          "base_uri": "https://localhost:8080/"
        },
        "id": "sAvKdun2V_of",
        "outputId": "b9c01f82-864b-496e-a930-c8c5d38dbb5e"
      },
      "outputs": [
        {
          "output_type": "stream",
          "name": "stdout",
          "text": [
            "The number of unique persons 1862220\n"
          ]
        }
      ],
      "source": [
        "print(\"The number of unique persons\",len(g.nodes()))"
      ]
    },
    {
      "cell_type": "code",
      "execution_count": null,
      "metadata": {
        "colab": {
          "base_uri": "https://localhost:8080/",
          "height": 583
        },
        "id": "roHU6h_lV_og",
        "outputId": "b221bdf5-b177-4151-9d91-76df30fc7509"
      },
      "outputs": [
        {
          "output_type": "stream",
          "name": "stderr",
          "text": [
            "/usr/local/lib/python3.7/dist-packages/seaborn/distributions.py:2619: FutureWarning: `distplot` is a deprecated function and will be removed in a future version. Please adapt your code to use either `displot` (a figure-level function with similar flexibility) or `histplot` (an axes-level function for histograms).\n",
            "  warnings.warn(msg, FutureWarning)\n"
          ]
        },
        {
          "output_type": "execute_result",
          "data": {
            "text/plain": [
              "Text(0.5, 0, 'PDF of Indegree')"
            ]
          },
          "metadata": {},
          "execution_count": 17
        },
        {
          "output_type": "display_data",
          "data": {
            "text/plain": [
              "<Figure size 842.4x595.44 with 1 Axes>"
            ],
            "image/png": "[encoded data removed]"
          },
          "metadata": {
            "needs_background": "light"
          }
        }
      ],
      "source": [
        "#Plotting distribution of the indegree\n",
        "dims= (11.7, 8.27)\n",
        "fig, ax = plt.subplots(figsize=dims)\n",
        "sns.distplot(Y)\n",
        "plt.xlabel('PDF of Indegree')"
      ]
    },
    {
      "cell_type": "code",
      "execution_count": null,
      "metadata": {
        "id": "zftu_yw2V_oh"
      },
      "outputs": [],
      "source": [
        "##Following stats Similar analysis is done for outdegree(followees)"
      ]
    },
    {
      "cell_type": "code",
      "execution_count": null,
      "metadata": {
        "id": "2KmoLJWDV_oh"
      },
      "outputs": [],
      "source": [
        "d_following=dict(g.out_degree())"
      ]
    },
    {
      "cell_type": "code",
      "execution_count": null,
      "metadata": {
        "id": "HBRsQYZgV_oi"
      },
      "outputs": [],
      "source": [
        "dict1_followng= OrderedDict(sorted(d_following.items()))"
      ]
    },
    {
      "cell_type": "code",
      "execution_count": null,
      "metadata": {
        "colab": {
          "base_uri": "https://localhost:8080/",
          "height": 388
        },
        "id": "-uz39otTV_oj",
        "outputId": "03856633-e000-40f6-8229-47a4e8fa8b8d"
      },
      "outputs": [
        {
          "output_type": "display_data",
          "data": {
            "text/plain": [
              "<Figure size 720x432 with 1 Axes>"
            ],
            "image/png": "[encoded data removed]"
          },
          "metadata": {
            "needs_background": "light"
          }
        }
      ],
      "source": [
        "X_following=list(dict1_followng.keys())\n",
        "Y_following=list(dict1_followng.values())\n",
        "plt.figure(figsize=(10,6))\n",
        "plt.plot(X_following,Y_following)\n",
        "plt.xlabel('Person')\n",
        "plt.ylabel('No Of person each person is following')\n",
        "plt.show()"
      ]
    },
    {
      "cell_type": "code",
      "execution_count": null,
      "metadata": {
        "colab": {
          "base_uri": "https://localhost:8080/"
        },
        "id": "BZEsjNkoV_ok",
        "outputId": "23252d5a-84b9-49c4-f59d-a3d47045aaf0"
      },
      "outputs": [
        {
          "output_type": "stream",
          "name": "stdout",
          "text": [
            "90 percentile value is 12.0\n",
            "91 percentile value is 13.0\n",
            "92 percentile value is 14.0\n",
            "93 percentile value is 15.0\n",
            "94 percentile value is 17.0\n",
            "95 percentile value is 19.0\n",
            "96 percentile value is 21.0\n",
            "97 percentile value is 24.0\n",
            "98 percentile value is 29.0\n",
            "99 percentile value is 40.0\n",
            "100 percentile value is 1566.0\n"
          ]
        }
      ],
      "source": [
        "for i in range(0,11):\n",
        "    print(90+i,'percentile value is',np.percentile(Y_following,90+i))"
      ]
    },
    {
      "cell_type": "code",
      "execution_count": null,
      "metadata": {
        "colab": {
          "base_uri": "https://localhost:8080/",
          "height": 420
        },
        "id": "JMz1zVAtV_ol",
        "outputId": "2d44d1aa-42be-4134-a2fc-7e812cd060f1"
      },
      "outputs": [
        {
          "output_type": "stream",
          "name": "stderr",
          "text": [
            "/usr/local/lib/python3.7/dist-packages/seaborn/distributions.py:2619: FutureWarning: `distplot` is a deprecated function and will be removed in a future version. Please adapt your code to use either `displot` (a figure-level function with similar flexibility) or `histplot` (an axes-level function for histograms).\n",
            "  warnings.warn(msg, FutureWarning)\n"
          ]
        },
        {
          "output_type": "execute_result",
          "data": {
            "text/plain": [
              "Text(0.5, 0, 'PDF of Outdegree')"
            ]
          },
          "metadata": {},
          "execution_count": 17
        },
        {
          "output_type": "display_data",
          "data": {
            "text/plain": [
              "<Figure size 379.44x379.44 with 1 Axes>"
            ],
            "image/png": "[encoded data removed]"
          },
          "metadata": {
            "needs_background": "light"
          }
        }
      ],
      "source": [
        "dims= (5.27, 5.27)\n",
        "fig, ax = plt.subplots(figsize=dims)\n",
        "sns.distplot(Y_following)\n",
        "plt.xlabel('PDF of Outdegree')"
      ]
    },
    {
      "cell_type": "code",
      "execution_count": null,
      "metadata": {
        "id": "vQ2kgshxV_oq"
      },
      "outputs": [],
      "source": [
        "#Some stats\n",
        "Y=list(dict1.values())\n",
        "Y_stats=np.array(Y)"
      ]
    },
    {
      "cell_type": "code",
      "execution_count": null,
      "metadata": {
        "colab": {
          "base_uri": "https://localhost:8080/"
        },
        "id": "QFpgBibIV_oq",
        "outputId": "52182822-5d1b-40f5-f620-9bf62af258c4"
      },
      "outputs": [
        {
          "output_type": "stream",
          "name": "stdout",
          "text": [
            "Minimum number of followers 1\n",
            "487160  persons having minimum no of followers + following\n"
          ]
        }
      ],
      "source": [
        "#Minimum number of follower=1\n",
        "print(\"Minimum number of followers\",Y_stats.min())\n",
        "print(np.sum(Y_stats==Y_stats.min()),' persons having minimum no of followers + following')"
      ]
    },
    {
      "cell_type": "code",
      "execution_count": null,
      "metadata": {
        "colab": {
          "base_uri": "https://localhost:8080/"
        },
        "id": "rFxBWINvV_or",
        "outputId": "11d4dfb5-79df-42bc-db94-b9b2054aed74"
      },
      "outputs": [
        {
          "output_type": "stream",
          "name": "stdout",
          "text": [
            "Maximum number of followers 900\n",
            "1  persons having maximum no of followers + following\n"
          ]
        }
      ],
      "source": [
        "#Maximum number of followers\n",
        "print(\"Maximum number of followers\",Y_stats.max())\n",
        "print(np.sum(Y_stats==Y_stats.max()),' persons having maximum no of followers + following')"
      ]
    },
    {
      "cell_type": "code",
      "execution_count": null,
      "metadata": {
        "colab": {
          "base_uri": "https://localhost:8080/"
        },
        "id": "-FOaJg60V_or",
        "outputId": "600cc381-6640-47d6-e03c-3ea8d6d8377e"
      },
      "outputs": [
        {
          "output_type": "execute_result",
          "data": {
            "text/plain": [
              "<_csv.reader at 0x7f1ccda05f50>"
            ]
          },
          "metadata": {},
          "execution_count": 91
        }
      ],
      "source": [
        "train_df_new=csv.reader(open('train_withoutheader.csv','r'))\n",
        "train_df_new"
      ]
    },
    {
      "cell_type": "code",
      "execution_count": null,
      "metadata": {
        "id": "7mZQkgD7V_os"
      },
      "outputs": [],
      "source": [
        "edge_list={}\n",
        "for edge in train_df_new:\n",
        "    edge_list[(edge[0],edge[1])] = 1\n",
        "    \n",
        "    "
      ]
    },
    {
      "cell_type": "code",
      "execution_count": null,
      "metadata": {
        "id": "TwH6qUABV_os"
      },
      "outputs": [],
      "source": [
        "new_edge_list=set()"
      ]
    },
    {
      "cell_type": "code",
      "execution_count": null,
      "metadata": {
        "id": "7EPxp0HFV_ot"
      },
      "outputs": [],
      "source": [
        "#creating pair of edges which are currently not friend(no direct edge) but they can be friends in future we choose random nodes whose shortest path is greater than 2\n",
        "while(len(new_edge_list)<9437519):\n",
        "    a=random.randint(1, 1862220)\n",
        "    b=random.randint(1, 1862220)\n",
        "    tmp = edge_list.get((a,b),-1)\n",
        "    if tmp == -1 and a!=b:\n",
        "      try:\n",
        "         if nx.shortest_path_length(g,source=a,target=b) > 2:\n",
        "           new_edge_list.add((a,b))\n",
        "\n",
        "         else:\n",
        "           continue\n",
        "    \n",
        "      except:\n",
        "        new_edge_list.add((a,b))\n",
        "\n",
        "    else:\n",
        "     continue"
      ]
    },
    {
      "cell_type": "code",
      "execution_count": null,
      "metadata": {
        "id": "pfxW3gR9V_ot",
        "outputId": "b62ceb24-51b7-43ab-a3a8-3662600e86ce",
        "colab": {
          "base_uri": "https://localhost:8080/"
        }
      },
      "outputs": [
        {
          "output_type": "execute_result",
          "data": {
            "text/plain": [
              "{(816729, 361373),\n",
              " (956349, 264828),\n",
              " (1004201, 624667),\n",
              " (597065, 952413),\n",
              " (1247834, 1748522),\n",
              " (1347681, 441822),\n",
              " (497138, 1431572),\n",
              " (1817128, 475727),\n",
              " (53588, 575149),\n",
              " (886928, 1292646),\n",
              " (359923, 1440498),\n",
              " (590833, 831526),\n",
              " (227369, 927617),\n",
              " (817308, 1337264),\n",
              " (188362, 419399),\n",
              " (1314958, 1070052),\n",
              " (238743, 353410),\n",
              " (565573, 71987),\n",
              " (1408308, 882077),\n",
              " (1793950, 1711530),\n",
              " (1231212, 387697),\n",
              " (652502, 741319),\n",
              " (18593, 9350),\n",
              " (837318, 795426),\n",
              " (1108841, 1005599),\n",
              " (1518840, 509782),\n",
              " (1341101, 92980),\n",
              " (359626, 1562688),\n",
              " (1322539, 365286),\n",
              " (869891, 832248),\n",
              " (1606827, 1590599),\n",
              " (411152, 511302),\n",
              " (610644, 953421),\n",
              " (479147, 1315748),\n",
              " (156053, 909397),\n",
              " (19578, 964256),\n",
              " (1024883, 184433),\n",
              " (1479910, 744084),\n",
              " (923074, 1359405),\n",
              " (1175371, 1347034),\n",
              " (1229036, 312913),\n",
              " (1716624, 1210650),\n",
              " (728641, 1355219),\n",
              " (489716, 64168),\n",
              " (710134, 186347),\n",
              " (1324624, 535701),\n",
              " (156084, 1756434),\n",
              " (521060, 1780916),\n",
              " (1823918, 1052311),\n",
              " (755310, 755261),\n",
              " (859828, 1723917),\n",
              " (391092, 589178),\n",
              " (1276877, 1412748),\n",
              " (1008823, 785061),\n",
              " (1167543, 362750),\n",
              " (1378303, 1161127),\n",
              " (49168, 1808543),\n",
              " (1459529, 487567),\n",
              " (484448, 236308),\n",
              " (831049, 757866),\n",
              " (271447, 805486),\n",
              " (1370829, 419463),\n",
              " (1835517, 665006),\n",
              " (217981, 1762255),\n",
              " (746535, 1005214),\n",
              " (1457798, 1832494),\n",
              " (331549, 945979),\n",
              " (472143, 681293),\n",
              " (1673389, 1479522),\n",
              " (1572077, 598350),\n",
              " (1136695, 821373),\n",
              " (1126948, 9262),\n",
              " (1071117, 1435963),\n",
              " (931583, 578936),\n",
              " (646819, 1589446),\n",
              " (543012, 1557592),\n",
              " (1700457, 1644914),\n",
              " (16357, 888956),\n",
              " (1551677, 1522991),\n",
              " (913186, 1710),\n",
              " (294149, 682045),\n",
              " (329758, 996934),\n",
              " (1438031, 1485260),\n",
              " (1172342, 1686070),\n",
              " (349582, 471550),\n",
              " (712012, 73196),\n",
              " (612555, 988156),\n",
              " (1457122, 436286),\n",
              " (1212200, 24447),\n",
              " (1646138, 1023679),\n",
              " (1846186, 829077),\n",
              " (17365, 61732),\n",
              " (802523, 1413732),\n",
              " (948438, 1125821),\n",
              " (1057518, 1049960),\n",
              " (849189, 1365699),\n",
              " (1674483, 56018),\n",
              " (490409, 797659),\n",
              " (1551888, 305156),\n",
              " (757042, 1808389),\n",
              " (473410, 1717227),\n",
              " (52836, 672302),\n",
              " (164865, 1782652),\n",
              " (1369520, 658388),\n",
              " (1545845, 861478),\n",
              " (924381, 205166),\n",
              " (1247472, 1324595),\n",
              " (702994, 1165333),\n",
              " (17237, 1094219),\n",
              " (326033, 555825),\n",
              " (123886, 1093693),\n",
              " (1106666, 868866),\n",
              " (69416, 1251438),\n",
              " (184734, 709729),\n",
              " (922351, 602644),\n",
              " (1578581, 1282177),\n",
              " (17831, 82971),\n",
              " (880255, 641105),\n",
              " (1150735, 1284811),\n",
              " (1458241, 1680968),\n",
              " (773099, 74135),\n",
              " (487107, 1402620),\n",
              " (1635972, 1675318),\n",
              " (1324465, 1459436),\n",
              " (757852, 1511719),\n",
              " (62870, 726858),\n",
              " (998847, 267391),\n",
              " (1844922, 244021),\n",
              " (1608945, 1303155),\n",
              " (489263, 1787501),\n",
              " (1687340, 479360),\n",
              " (1109816, 913905),\n",
              " (459024, 647016),\n",
              " (462055, 514765),\n",
              " (173073, 1716673),\n",
              " (222901, 1461192),\n",
              " (12750, 491506),\n",
              " (1805675, 371452),\n",
              " (372838, 183380),\n",
              " (318553, 1675565),\n",
              " (506661, 1467823),\n",
              " (140444, 1090900),\n",
              " (820079, 422759),\n",
              " (1343985, 22732),\n",
              " (1478625, 1861319),\n",
              " (327111, 5500),\n",
              " (1357178, 567984),\n",
              " (1858575, 1265316),\n",
              " (870673, 573659),\n",
              " (1637043, 1207606),\n",
              " (115230, 545825),\n",
              " (758466, 190694),\n",
              " (1819623, 711674),\n",
              " (922369, 1515642),\n",
              " (1129993, 988437),\n",
              " (2885, 976722),\n",
              " (1117487, 900255),\n",
              " (870661, 801230),\n",
              " (229831, 198501),\n",
              " (234836, 274597),\n",
              " (636673, 1132925),\n",
              " (394137, 189544),\n",
              " (1182591, 1334019),\n",
              " (605246, 135866),\n",
              " (1184763, 648475),\n",
              " (78778, 299457),\n",
              " (314356, 1181208),\n",
              " (1199888, 549994),\n",
              " (772544, 231411),\n",
              " (165696, 953203),\n",
              " (1133851, 854578),\n",
              " (9994, 68396),\n",
              " (307269, 1227352),\n",
              " (613484, 1353816),\n",
              " (324197, 1173646),\n",
              " (1772471, 181903),\n",
              " (1810487, 1547258),\n",
              " (547416, 793964),\n",
              " (1080432, 312883),\n",
              " (298071, 781926),\n",
              " (107214, 1420125),\n",
              " (708159, 87585),\n",
              " (1472366, 797302),\n",
              " (1719406, 332150),\n",
              " (418428, 1599250),\n",
              " (1325681, 1173231),\n",
              " (518964, 425499),\n",
              " (827829, 1433088),\n",
              " (995165, 1503593),\n",
              " (1220128, 1502835),\n",
              " (137490, 3982),\n",
              " (412866, 968267),\n",
              " (86288, 759458),\n",
              " (899673, 1324780),\n",
              " (154079, 719835),\n",
              " (1191587, 851015),\n",
              " (1854789, 1323489),\n",
              " (1301729, 510433),\n",
              " (433444, 927261),\n",
              " (598098, 1432205),\n",
              " (335711, 1183517),\n",
              " (860464, 1433003),\n",
              " (867487, 194535),\n",
              " (787266, 294406),\n",
              " (1823080, 1293260),\n",
              " (583592, 1208050),\n",
              " (210047, 750515),\n",
              " (279848, 1541611),\n",
              " (1439899, 1860466),\n",
              " (1624803, 891156),\n",
              " (1089514, 1357202),\n",
              " (4266, 637176),\n",
              " (649601, 615461),\n",
              " (770311, 1273907),\n",
              " (1537963, 457902),\n",
              " (1469474, 370626),\n",
              " (1583520, 337289),\n",
              " (904156, 1529760),\n",
              " (585797, 293020),\n",
              " (155552, 1713832),\n",
              " (992486, 1260943),\n",
              " (1169747, 788628),\n",
              " (387624, 945701),\n",
              " (352278, 610549),\n",
              " (19710, 291003),\n",
              " (385022, 724167),\n",
              " (1362514, 1762285),\n",
              " (595630, 1209617),\n",
              " (1087024, 611562),\n",
              " (1645027, 1257997),\n",
              " (1211801, 1337010),\n",
              " (690767, 1518073),\n",
              " (396050, 1415173),\n",
              " (117964, 1055872),\n",
              " (592140, 336006),\n",
              " (969480, 717279),\n",
              " (890528, 667596),\n",
              " (1692391, 1112371),\n",
              " (933590, 339433),\n",
              " (566941, 293260),\n",
              " (1667426, 1090912),\n",
              " (1120295, 210556),\n",
              " (491799, 1521324),\n",
              " (243616, 1028483),\n",
              " (1245811, 1477815),\n",
              " (240500, 1004283),\n",
              " (1760343, 1469145),\n",
              " (226693, 1302910),\n",
              " (1321948, 1854482),\n",
              " (596035, 1644641),\n",
              " (38985, 1588176),\n",
              " (251305, 493534),\n",
              " (1396923, 1573675),\n",
              " (882968, 266231),\n",
              " (20473, 566607),\n",
              " (1675793, 815449),\n",
              " (314747, 842047),\n",
              " (1457157, 1676865),\n",
              " (553883, 1810953),\n",
              " (1221962, 294403),\n",
              " (705845, 758578),\n",
              " (783291, 202914),\n",
              " (1346321, 744783),\n",
              " (660635, 556416),\n",
              " (1291387, 28759),\n",
              " (1470152, 513560),\n",
              " (1510899, 1559260),\n",
              " (702927, 1772269),\n",
              " (1249451, 698910),\n",
              " (170020, 122056),\n",
              " (1329281, 893083),\n",
              " (439700, 1143201),\n",
              " (432670, 850856),\n",
              " (737469, 1174848),\n",
              " (330052, 415150),\n",
              " (1057364, 1059261),\n",
              " (1660686, 1210892),\n",
              " (349490, 970396),\n",
              " (601841, 1517864),\n",
              " (244607, 1127987),\n",
              " (23224, 1552890),\n",
              " (835079, 343065),\n",
              " (1720579, 1624946),\n",
              " (8141, 1598280),\n",
              " (340399, 1720772),\n",
              " (1565284, 589803),\n",
              " (358368, 605372),\n",
              " (95494, 43783),\n",
              " (1055996, 202814),\n",
              " (1133329, 423452),\n",
              " (142777, 269496),\n",
              " (946567, 421709),\n",
              " (404149, 1817244),\n",
              " (1843978, 1031820),\n",
              " (1493330, 769009),\n",
              " (869002, 212626),\n",
              " (676401, 1773791),\n",
              " (48224, 1528166),\n",
              " (179597, 666384),\n",
              " (275153, 76340),\n",
              " (1396770, 236397),\n",
              " (169558, 427016),\n",
              " (1551234, 553524),\n",
              " (1749155, 185223),\n",
              " (262646, 1364641),\n",
              " (1800572, 1384524),\n",
              " (30279, 407944),\n",
              " (297251, 1135483),\n",
              " (1032196, 399882),\n",
              " (38166, 1114658),\n",
              " (669710, 889776),\n",
              " (1188572, 403435),\n",
              " (971270, 1722145),\n",
              " (681888, 644179),\n",
              " (1837800, 1740106),\n",
              " (1153956, 1207867),\n",
              " (75173, 563245),\n",
              " (1371333, 435054),\n",
              " (1278462, 709150),\n",
              " (306512, 1025944),\n",
              " (3472, 1708845),\n",
              " (1533639, 1061224),\n",
              " (1502977, 1085215),\n",
              " (1837992, 432120),\n",
              " (1493202, 1410627),\n",
              " (1374455, 1405087),\n",
              " (1692084, 1850819),\n",
              " (1390915, 1617795),\n",
              " (1062856, 365057),\n",
              " (1529253, 1744838),\n",
              " (524663, 1573014),\n",
              " (770088, 1134731),\n",
              " (1668325, 1099851),\n",
              " (1498950, 126112),\n",
              " (399783, 1408780),\n",
              " (584930, 1807116),\n",
              " (1525587, 167171),\n",
              " (606206, 30398),\n",
              " (502386, 587007),\n",
              " (320682, 502874),\n",
              " (1019150, 989737),\n",
              " (337488, 1788408),\n",
              " (1603256, 1185653),\n",
              " (472903, 1856253),\n",
              " (359861, 758124),\n",
              " (928551, 132418),\n",
              " (1170683, 1704828),\n",
              " (1834488, 413502),\n",
              " (1598384, 1117926),\n",
              " (1246604, 871778),\n",
              " (962176, 605698),\n",
              " (1544396, 1858958),\n",
              " (163548, 1222870),\n",
              " (1356792, 1161177),\n",
              " (1668610, 801504),\n",
              " (1154039, 1860451),\n",
              " (1329198, 1642746),\n",
              " (1677554, 887859),\n",
              " (1132471, 870607),\n",
              " (1659704, 1426848),\n",
              " (1332556, 1758303),\n",
              " (1689214, 1018003),\n",
              " (1749790, 885508),\n",
              " (815872, 747742),\n",
              " (1128958, 1055974),\n",
              " (602882, 1828528),\n",
              " (72723, 1709586),\n",
              " (1291840, 110644),\n",
              " (1835125, 593718),\n",
              " (1416750, 13342),\n",
              " (1488365, 453188),\n",
              " (103166, 1136014),\n",
              " (1573367, 616177),\n",
              " (1659787, 1723459),\n",
              " (669667, 457035),\n",
              " (92822, 424762),\n",
              " (1420185, 1224218),\n",
              " (848270, 1547980),\n",
              " (1366395, 502086),\n",
              " (1306481, 130115),\n",
              " (1254891, 1680379),\n",
              " (1047821, 311411),\n",
              " (615079, 490326),\n",
              " (1057374, 287026),\n",
              " (831315, 1645697),\n",
              " (1267682, 1142075),\n",
              " (426226, 724929),\n",
              " (1425295, 1064497),\n",
              " (537061, 287070),\n",
              " (1697567, 385291),\n",
              " (1600740, 1225319),\n",
              " (1024141, 245354),\n",
              " (676733, 1736563),\n",
              " (1821852, 939869),\n",
              " (1137953, 377581),\n",
              " (1335173, 1638289),\n",
              " (1703923, 1726833),\n",
              " (1705130, 1137971),\n",
              " (969964, 585900),\n",
              " (1745981, 120627),\n",
              " (124199, 105785),\n",
              " (1729444, 115725),\n",
              " (1458063, 1088321),\n",
              " (1198881, 1518990),\n",
              " (769346, 1740983),\n",
              " (570881, 1487453),\n",
              " (662075, 1472639),\n",
              " (555387, 1000023),\n",
              " (1393807, 120822),\n",
              " (1171504, 1233360),\n",
              " (1379462, 1523497),\n",
              " (1259791, 663554),\n",
              " (1396466, 203714),\n",
              " (1484630, 1492635),\n",
              " (389910, 811951),\n",
              " (856211, 1319502),\n",
              " (1628279, 886094),\n",
              " (1191440, 1679610),\n",
              " (711908, 945059),\n",
              " (65596, 1663322),\n",
              " (1236257, 439806),\n",
              " (691655, 558121),\n",
              " (789507, 852664),\n",
              " (1685562, 1391055),\n",
              " (118538, 1489937),\n",
              " (312054, 478701),\n",
              " (357889, 509338),\n",
              " (1207510, 828012),\n",
              " (859420, 1062071),\n",
              " (117710, 379303),\n",
              " (1208742, 1789983),\n",
              " (504350, 1052168),\n",
              " (1563402, 1444082),\n",
              " (446366, 798908),\n",
              " (994534, 144802),\n",
              " (1804153, 47444),\n",
              " (1564518, 1053019),\n",
              " (1514496, 769923),\n",
              " (914144, 1292136),\n",
              " (367667, 1540011),\n",
              " (103269, 1321117),\n",
              " (1094, 1540210),\n",
              " (408857, 147358),\n",
              " (505334, 356248),\n",
              " (804855, 694358),\n",
              " (147028, 889972),\n",
              " (1366023, 1618244),\n",
              " (785099, 450720),\n",
              " (177257, 1479147),\n",
              " (390423, 1399616),\n",
              " (1112883, 1398647),\n",
              " (200306, 366357),\n",
              " (1520436, 1454500),\n",
              " (627214, 274740),\n",
              " (740255, 717098),\n",
              " (698631, 1754784),\n",
              " (365830, 1326077),\n",
              " (1141094, 1679787),\n",
              " (82827, 1345000),\n",
              " (1342503, 628731),\n",
              " (1475504, 1492424),\n",
              " (962978, 1287326),\n",
              " (814767, 1181909),\n",
              " (206166, 830117),\n",
              " (345169, 1663032),\n",
              " (550574, 1548346),\n",
              " (672946, 1346355),\n",
              " (1155585, 930781),\n",
              " (152434, 42421),\n",
              " (202747, 1009884),\n",
              " (514981, 1062601),\n",
              " (1452085, 100271),\n",
              " (613205, 1678842),\n",
              " (196840, 1703542),\n",
              " (635929, 1645080),\n",
              " (709398, 1186993),\n",
              " (69084, 1629449),\n",
              " (132240, 269405),\n",
              " (224045, 1756921),\n",
              " (1127294, 1759531),\n",
              " (767275, 435159),\n",
              " (507510, 367080),\n",
              " (1368550, 1442840),\n",
              " (645708, 535293),\n",
              " (792110, 1219074),\n",
              " (103709, 1087322),\n",
              " (1705066, 1811587),\n",
              " (581571, 1516367),\n",
              " (863303, 1751054),\n",
              " (1213351, 398819),\n",
              " (1321987, 1442796),\n",
              " (543091, 72819),\n",
              " (1611059, 1415987),\n",
              " (1838858, 1182475),\n",
              " (235056, 437353),\n",
              " (1364938, 226189),\n",
              " (1561771, 882364),\n",
              " (282910, 380040),\n",
              " (1308764, 1434056),\n",
              " (119567, 1818748),\n",
              " (208339, 1445327),\n",
              " (816023, 398414),\n",
              " (249623, 1805889),\n",
              " (754891, 976818),\n",
              " (214186, 673026),\n",
              " (579959, 55219),\n",
              " (1594363, 35930),\n",
              " (1178431, 1145693),\n",
              " (930168, 1507460),\n",
              " (28869, 1219728),\n",
              " (513006, 1770820),\n",
              " (1520763, 795462),\n",
              " (1497832, 1025599),\n",
              " (1125710, 113115),\n",
              " (1738043, 1778727),\n",
              " (1602760, 822280),\n",
              " (390709, 1497066),\n",
              " (747748, 1082137),\n",
              " (217753, 1848847),\n",
              " (1804553, 1079448),\n",
              " (1562210, 1012708),\n",
              " (552114, 1776641),\n",
              " (1245169, 269970),\n",
              " (916137, 381773),\n",
              " (263141, 841482),\n",
              " (1461028, 668102),\n",
              " (894717, 1852488),\n",
              " (1136796, 538512),\n",
              " (1622275, 336822),\n",
              " (204541, 301417),\n",
              " (1480344, 1655335),\n",
              " (1380205, 73795),\n",
              " (115316, 609560),\n",
              " (661469, 1629269),\n",
              " (53539, 353534),\n",
              " (1138311, 564882),\n",
              " (1836228, 1620176),\n",
              " (756976, 502486),\n",
              " (687132, 781615),\n",
              " (1790252, 1810431),\n",
              " (293215, 275800),\n",
              " (293096, 408978),\n",
              " (1726602, 1826433),\n",
              " (898132, 1597125),\n",
              " (726498, 1154488),\n",
              " (516876, 1023402),\n",
              " (1215748, 1644222),\n",
              " (191901, 667761),\n",
              " (1481061, 1157129),\n",
              " (1071732, 1537324),\n",
              " (1222636, 1275386),\n",
              " (803511, 1550664),\n",
              " (861688, 1082959),\n",
              " (907513, 1674746),\n",
              " (294584, 1278594),\n",
              " (232040, 1798727),\n",
              " (1598089, 332095),\n",
              " (1191174, 1088689),\n",
              " (1169080, 1598219),\n",
              " (1222134, 1101471),\n",
              " (1706117, 1166888),\n",
              " (992070, 831667),\n",
              " (138955, 1642983),\n",
              " (1189248, 1296704),\n",
              " (124161, 362742),\n",
              " (1778236, 1249291),\n",
              " (573646, 1292389),\n",
              " (1742019, 1059725),\n",
              " (652561, 1179466),\n",
              " (1807151, 425822),\n",
              " (6435, 373889),\n",
              " (286086, 798591),\n",
              " (959513, 1810649),\n",
              " (134678, 100278),\n",
              " (655467, 1251002),\n",
              " (1389991, 1842416),\n",
              " (1145457, 681462),\n",
              " (1549176, 49250),\n",
              " (739260, 936058),\n",
              " (872152, 661568),\n",
              " (936660, 603150),\n",
              " (1215268, 436651),\n",
              " (417333, 1455699),\n",
              " (443181, 1249845),\n",
              " (662859, 42887),\n",
              " (794661, 1204676),\n",
              " (1260054, 1583449),\n",
              " (507290, 126252),\n",
              " (694247, 804759),\n",
              " (395712, 1581817),\n",
              " (956109, 1349849),\n",
              " (413891, 794196),\n",
              " (587199, 402255),\n",
              " (935058, 893339),\n",
              " (796785, 484436),\n",
              " (125623, 1287508),\n",
              " (223609, 1142235),\n",
              " (1560829, 1084034),\n",
              " (1823919, 1464328),\n",
              " (284536, 924268),\n",
              " (1691042, 221912),\n",
              " (151568, 433528),\n",
              " (1174590, 1345805),\n",
              " (223237, 652195),\n",
              " (1721674, 1844773),\n",
              " (119055, 1339682),\n",
              " (1468404, 1276696),\n",
              " (1567294, 131413),\n",
              " (1314377, 1052405),\n",
              " (1471345, 391371),\n",
              " (545833, 352374),\n",
              " (497832, 1834634),\n",
              " (1645243, 104647),\n",
              " (1411280, 619131),\n",
              " (292933, 63770),\n",
              " (1294931, 653228),\n",
              " (860735, 552931),\n",
              " (1097136, 897139),\n",
              " (682695, 865565),\n",
              " (996165, 1125911),\n",
              " (945330, 1068619),\n",
              " (93321, 1111276),\n",
              " (40488, 1347908),\n",
              " (116787, 876053),\n",
              " (130261, 1401295),\n",
              " (1469134, 916882),\n",
              " (276589, 412901),\n",
              " (1360720, 1846498),\n",
              " (610315, 847645),\n",
              " (594518, 1797811),\n",
              " (1436266, 878002),\n",
              " (189383, 512222),\n",
              " (715125, 1104165),\n",
              " (1852376, 1199127),\n",
              " (1209280, 1673604),\n",
              " (641046, 801451),\n",
              " (688792, 1735862),\n",
              " (437508, 1515797),\n",
              " (12945, 253452),\n",
              " (1826048, 73565),\n",
              " (1076031, 51071),\n",
              " (655819, 480345),\n",
              " (1522271, 919325),\n",
              " (1546748, 1689886),\n",
              " (166244, 89107),\n",
              " (71140, 1027791),\n",
              " (439550, 162088),\n",
              " (515629, 109361),\n",
              " (485720, 1151395),\n",
              " (952066, 1184301),\n",
              " (1069274, 342404),\n",
              " (1376950, 848904),\n",
              " (1395436, 1696266),\n",
              " (370779, 1445129),\n",
              " (914031, 1000912),\n",
              " (1213181, 732997),\n",
              " (261823, 693034),\n",
              " (1724847, 1695376),\n",
              " (156205, 1495649),\n",
              " (1259228, 1368831),\n",
              " (636844, 1208577),\n",
              " (807279, 1055799),\n",
              " (59274, 1048753),\n",
              " (1198824, 946007),\n",
              " (954506, 649766),\n",
              " (333451, 542531),\n",
              " (68899, 358549),\n",
              " (704822, 1432772),\n",
              " (448589, 1233459),\n",
              " (8181, 511046),\n",
              " (1761871, 1650483),\n",
              " (899879, 1648413),\n",
              " (723345, 63374),\n",
              " (881429, 269229),\n",
              " (846375, 297801),\n",
              " (1240093, 1814822),\n",
              " (591441, 538848),\n",
              " (795021, 1595663),\n",
              " (88621, 1523013),\n",
              " (1171580, 1675299),\n",
              " (214005, 1672062),\n",
              " (488419, 1720784),\n",
              " (1590896, 1166937),\n",
              " (405082, 1833805),\n",
              " (1713457, 1201133),\n",
              " (1241332, 129243),\n",
              " (1817621, 1699182),\n",
              " (1086564, 573130),\n",
              " (960415, 1647229),\n",
              " (1167404, 1388788),\n",
              " (592420, 894566),\n",
              " (1019703, 22922),\n",
              " (551319, 1236049),\n",
              " (292120, 755708),\n",
              " (67189, 1535450),\n",
              " (684718, 1391353),\n",
              " (1051329, 1776784),\n",
              " (129028, 1215505),\n",
              " (93502, 820194),\n",
              " (323759, 761241),\n",
              " (1683082, 6354),\n",
              " (906239, 726715),\n",
              " (226186, 885944),\n",
              " (504231, 210693),\n",
              " (41973, 172522),\n",
              " (1731962, 182667),\n",
              " (736620, 1845367),\n",
              " (641257, 413479),\n",
              " (1041153, 401023),\n",
              " (1229123, 79951),\n",
              " (358915, 412098),\n",
              " (22358, 883799),\n",
              " (1469925, 1338629),\n",
              " (1337569, 1125357),\n",
              " (256518, 732956),\n",
              " (1175402, 282854),\n",
              " (1221542, 813820),\n",
              " (980997, 942605),\n",
              " (1748500, 696084),\n",
              " (702581, 296700),\n",
              " (344526, 707451),\n",
              " (625295, 823083),\n",
              " (1137121, 43080),\n",
              " (1043680, 666251),\n",
              " (513922, 1051331),\n",
              " (300816, 195162),\n",
              " (967689, 1669149),\n",
              " (1125515, 459861),\n",
              " (1857412, 296309),\n",
              " (1462842, 1745171),\n",
              " (247016, 621721),\n",
              " (82889, 656832),\n",
              " (1710430, 1165409),\n",
              " (1246849, 1494169),\n",
              " (1695243, 962309),\n",
              " (919145, 418037),\n",
              " (695732, 1029727),\n",
              " (1276955, 1188019),\n",
              " (1629847, 1799241),\n",
              " (1448081, 152652),\n",
              " (835832, 1576971),\n",
              " (1161791, 438741),\n",
              " (224963, 1022897),\n",
              " (1826310, 754191),\n",
              " (1180610, 54619),\n",
              " (1690541, 1592116),\n",
              " (847370, 168991),\n",
              " (338138, 19086),\n",
              " (1390680, 1290376),\n",
              " (1446394, 1153518),\n",
              " (589849, 1735473),\n",
              " (804966, 1562283),\n",
              " (692501, 1309463),\n",
              " (124307, 1751342),\n",
              " (298360, 943716),\n",
              " (811164, 529096),\n",
              " (1158365, 1006049),\n",
              " (1565784, 1573261),\n",
              " (1800685, 1743091),\n",
              " (1299640, 581249),\n",
              " (1620771, 848400),\n",
              " (1475423, 1610297),\n",
              " (1679186, 447445),\n",
              " (361740, 1388566),\n",
              " (161870, 1536075),\n",
              " (661633, 1461045),\n",
              " (1115036, 1168562),\n",
              " (137811, 384201),\n",
              " (1835716, 796453),\n",
              " (682061, 275620),\n",
              " (1567923, 916570),\n",
              " (1282209, 1234513),\n",
              " (1132516, 1220507),\n",
              " (1716715, 347446),\n",
              " (878230, 474311),\n",
              " (233709, 423026),\n",
              " (1382768, 221139),\n",
              " (1472137, 467416),\n",
              " (891552, 616637),\n",
              " (1567123, 628075),\n",
              " (743194, 247609),\n",
              " (441118, 1264007),\n",
              " (1730111, 1541586),\n",
              " (1829714, 1164034),\n",
              " (664129, 706189),\n",
              " (952114, 1192528),\n",
              " (1334137, 827520),\n",
              " (1827535, 537800),\n",
              " (272912, 1419918),\n",
              " (1746574, 468663),\n",
              " (1827566, 112023),\n",
              " (891406, 1667293),\n",
              " (1606523, 662518),\n",
              " (324790, 1109311),\n",
              " (604746, 407112),\n",
              " (1775488, 47578),\n",
              " (335529, 162433),\n",
              " (1536475, 864729),\n",
              " (140856, 1750192),\n",
              " (75458, 328331),\n",
              " (1118641, 850307),\n",
              " (374541, 1001863),\n",
              " (132892, 620340),\n",
              " (920763, 1568741),\n",
              " (751332, 51829),\n",
              " (338312, 1275782),\n",
              " (598958, 1191764),\n",
              " (1346741, 1764147),\n",
              " (957078, 968628),\n",
              " (1227994, 882645),\n",
              " (259545, 169457),\n",
              " (988409, 1592132),\n",
              " (920944, 1647562),\n",
              " (240448, 1660719),\n",
              " (1355808, 670170),\n",
              " (397341, 64895),\n",
              " (507149, 1852047),\n",
              " (1830525, 188298),\n",
              " (1276396, 945043),\n",
              " (1737472, 1105804),\n",
              " (551260, 1860265),\n",
              " (636732, 592847),\n",
              " (592972, 1481508),\n",
              " (881480, 1548797),\n",
              " (554425, 813696),\n",
              " (983643, 1067624),\n",
              " (113485, 720798),\n",
              " (738766, 1609737),\n",
              " (321784, 201621),\n",
              " (1174492, 312536),\n",
              " (1808293, 784446),\n",
              " (813631, 100038),\n",
              " (402087, 1565487),\n",
              " (1752939, 654558),\n",
              " (1265627, 1548942),\n",
              " (672835, 1434198),\n",
              " (216707, 1382782),\n",
              " (1435200, 116268),\n",
              " (1760951, 1852948),\n",
              " (1404779, 1007127),\n",
              " (1672449, 1451784),\n",
              " (845599, 583991),\n",
              " (1756584, 1511569),\n",
              " (576349, 1236302),\n",
              " (1796710, 109274),\n",
              " (75690, 691746),\n",
              " (115205, 758590),\n",
              " (932358, 542660),\n",
              " (374642, 438637),\n",
              " (1585728, 1362300),\n",
              " (587938, 728486),\n",
              " (829549, 1442775),\n",
              " (1652212, 551523),\n",
              " (395652, 747400),\n",
              " (688336, 1765065),\n",
              " (380319, 903236),\n",
              " (1357051, 1169618),\n",
              " (1280548, 1701669),\n",
              " (1845316, 1529647),\n",
              " (694273, 262161),\n",
              " (1389891, 448033),\n",
              " (1579794, 649626),\n",
              " (1743182, 1738747),\n",
              " (1243994, 832319),\n",
              " (301366, 8782),\n",
              " (1052141, 755132),\n",
              " (1563886, 440352),\n",
              " (1684474, 1262896),\n",
              " (862658, 102469),\n",
              " (548207, 1033893),\n",
              " (1610474, 1385315),\n",
              " (1299869, 1859289),\n",
              " (993102, 193949),\n",
              " (742664, 1858596),\n",
              " (577451, 988176),\n",
              " (1229041, 68594),\n",
              " (1135985, 910024),\n",
              " (1808598, 700791),\n",
              " (201470, 139168),\n",
              " (565923, 1319757),\n",
              " (9067, 483967),\n",
              " (1339479, 463222),\n",
              " (1424426, 1137030),\n",
              " (1745347, 1341867),\n",
              " (44426, 665100),\n",
              " (1635648, 1695366),\n",
              " (1084700, 248322),\n",
              " (1182199, 1833614),\n",
              " (391914, 1470337),\n",
              " (905966, 1678382),\n",
              " (809136, 1778712),\n",
              " (54819, 26148),\n",
              " (575881, 1218022),\n",
              " (1443350, 74378),\n",
              " (431145, 1076263),\n",
              " (1537976, 1410132),\n",
              " (1281463, 906014),\n",
              " (1674092, 1782287),\n",
              " (1709488, 609577),\n",
              " (525660, 1116701),\n",
              " (1073910, 1194170),\n",
              " (1516273, 736703),\n",
              " (778079, 1236219),\n",
              " (445356, 174079),\n",
              " (142568, 1065096),\n",
              " (64242, 469235),\n",
              " (93323, 231284),\n",
              " (929415, 1159402),\n",
              " (1538064, 1852314),\n",
              " (290666, 27066),\n",
              " (164164, 293398),\n",
              " (1442716, 1408986),\n",
              " (1194816, 1279304),\n",
              " (1508724, 409801),\n",
              " (493935, 38223),\n",
              " (1576911, 478490),\n",
              " (1726285, 130411),\n",
              " (1410144, 1155776),\n",
              " (683726, 1562366),\n",
              " (999669, 161782),\n",
              " (748871, 1245848),\n",
              " (875148, 234566),\n",
              " (1820737, 567054),\n",
              " (794057, 472554),\n",
              " (167522, 795808),\n",
              " (826467, 1135410),\n",
              " (1284842, 1056961),\n",
              " (366588, 1048557),\n",
              " (1800024, 447796),\n",
              " (1751100, 811634),\n",
              " (1748800, 1417530),\n",
              " (169856, 1481135),\n",
              " (929824, 1651444),\n",
              " (133911, 1595889),\n",
              " (600378, 606199),\n",
              " (139608, 515195),\n",
              " (334488, 552891),\n",
              " (973347, 385793),\n",
              " (1010218, 850764),\n",
              " (1595004, 1449782),\n",
              " (212145, 1228738),\n",
              " (264576, 963371),\n",
              " (1538893, 1351335),\n",
              " (582032, 282491),\n",
              " (1606139, 1756465),\n",
              " (1269271, 956058),\n",
              " (621494, 1251135),\n",
              " (628820, 1145870),\n",
              " (953454, 1559350),\n",
              " (758255, 155249),\n",
              " (1458242, 884080),\n",
              " (839854, 1813521),\n",
              " (449569, 1694851),\n",
              " (1786390, 749273),\n",
              " (408184, 785502),\n",
              " (891132, 1247729),\n",
              " (1410896, 1832624),\n",
              " (224918, 255515),\n",
              " (645854, 679284),\n",
              " (269437, 1142601),\n",
              " (452679, 1179917),\n",
              " (1722611, 1048388),\n",
              " (345052, 1417059),\n",
              " (1532705, 867301),\n",
              " (706606, 1731041),\n",
              " (1157742, 1094362),\n",
              " (1816152, 381101),\n",
              " (1153992, 1077138),\n",
              " (509699, 349405),\n",
              " (387283, 213856),\n",
              " (76097, 1375968),\n",
              " (521542, 168442),\n",
              " (1656871, 596215),\n",
              " (1169702, 601956),\n",
              " (1373928, 1134690),\n",
              " (267169, 765516),\n",
              " (890941, 753459),\n",
              " (125289, 598883),\n",
              " (632265, 576636),\n",
              " (1664514, 1762570),\n",
              " (888956, 269800),\n",
              " (872000, 1191473),\n",
              " (1647826, 433094),\n",
              " (921108, 693033),\n",
              " (1015499, 417275),\n",
              " (1657336, 1271264),\n",
              " (553315, 1527556),\n",
              " (1451707, 219075),\n",
              " (1265481, 1767852),\n",
              " (1186095, 1168369),\n",
              " (325037, 1020383),\n",
              " (534813, 1197297),\n",
              " (1108041, 1002829),\n",
              " (110028, 1797506),\n",
              " (1686266, 843963),\n",
              " (89370, 1831041),\n",
              " (242860, 1174176),\n",
              " (983870, 142306),\n",
              " (528067, 798239),\n",
              " (1563898, 820456),\n",
              " ...}"
            ]
          },
          "metadata": {},
          "execution_count": 14
        }
      ],
      "source": [
        "new_edge_list"
      ]
    },
    {
      "cell_type": "code",
      "execution_count": null,
      "metadata": {
        "colab": {
          "base_uri": "https://localhost:8080/"
        },
        "id": "QlYH5QxGV_ou",
        "outputId": "f27f7869-bc27-4af4-d4b6-f060c03dfab6"
      },
      "outputs": [
        {
          "output_type": "execute_result",
          "data": {
            "text/plain": [
              "pandas.core.frame.DataFrame"
            ]
          },
          "metadata": {},
          "execution_count": 15
        }
      ],
      "source": [
        "#pair of edges which have direct link\n",
        "data_link=pd.read_csv('/content/drive/MyDrive/train.csv')\n",
        "data_link['link']=1\n",
        "type(data_link)"
      ]
    },
    {
      "cell_type": "code",
      "execution_count": null,
      "metadata": {
        "id": "JRBKjo_CV_ou"
      },
      "outputs": [],
      "source": [
        "#pair of nodes which have no direct link\n",
        "data_wolink = pd.DataFrame(list(new_edge_list), columns=['source_node', 'destination_node'])"
      ]
    },
    {
      "cell_type": "code",
      "execution_count": null,
      "metadata": {
        "id": "K7SV175WV_ov"
      },
      "outputs": [],
      "source": [
        "data_wolink\n",
        "data_wolink['link']=0\n",
        "type(data_wolink)\n",
        "lis=[data_link,data_wolink]"
      ]
    },
    {
      "cell_type": "code",
      "execution_count": null,
      "metadata": {
        "id": "Z6kHNLh_V_ov"
      },
      "outputs": [],
      "source": [
        "lis=[data_link,data_wolink]\n",
        "final_data_withoutshuffling=pd.concat(lis)"
      ]
    },
    {
      "cell_type": "code",
      "execution_count": null,
      "metadata": {
        "colab": {
          "base_uri": "https://localhost:8080/",
          "height": 424
        },
        "id": "BRkOjPkQV_ov",
        "outputId": "d47c16e8-2b8e-439c-c218-ad7efb8db183"
      },
      "outputs": [
        {
          "output_type": "execute_result",
          "data": {
            "text/plain": [
              "         source_node  destination_node  link\n",
              "0                  1            690569     1\n",
              "1                  1            315892     1\n",
              "2                  1            189226     1\n",
              "3                  2            834328     1\n",
              "4                  2           1615927     1\n",
              "...              ...               ...   ...\n",
              "9437514        44797            293110     0\n",
              "9437515       697685            946985     0\n",
              "9437516      1245886            152689     0\n",
              "9437517       853772            322974     0\n",
              "9437518      1325887           1032769     0\n",
              "\n",
              "[18875038 rows x 3 columns]"
            ],
            "text/html": [
              "\n",
              "  <div id=\"df-1d71b6c1-9810-4d0d-baf4-e02593e124de\">\n",
              "    <div class=\"colab-df-container\">\n",
              "      <div>\n",
              "<style scoped>\n",
              "    .dataframe tbody tr th:only-of-type {\n",
              "        vertical-align: middle;\n",
              "    }\n",
              "\n",
              "    .dataframe tbody tr th {\n",
              "        vertical-align: top;\n",
              "    }\n",
              "\n",
              "    .dataframe thead th {\n",
              "        text-align: right;\n",
              "    }\n",
              "</style>\n",
              "<table border=\"1\" class=\"dataframe\">\n",
              "  <thead>\n",
              "    <tr style=\"text-align: right;\">\n",
              "      <th></th>\n",
              "      <th>source_node</th>\n",
              "      <th>destination_node</th>\n",
              "      <th>link</th>\n",
              "    </tr>\n",
              "  </thead>\n",
              "  <tbody>\n",
              "    <tr>\n",
              "      <th>0</th>\n",
              "      <td>1</td>\n",
              "      <td>690569</td>\n",
              "      <td>1</td>\n",
              "    </tr>\n",
              "    <tr>\n",
              "      <th>1</th>\n",
              "      <td>1</td>\n",
              "      <td>315892</td>\n",
              "      <td>1</td>\n",
              "    </tr>\n",
              "    <tr>\n",
              "      <th>2</th>\n",
              "      <td>1</td>\n",
              "      <td>189226</td>\n",
              "      <td>1</td>\n",
              "    </tr>\n",
              "    <tr>\n",
              "      <th>3</th>\n",
              "      <td>2</td>\n",
              "      <td>834328</td>\n",
              "      <td>1</td>\n",
              "    </tr>\n",
              "    <tr>\n",
              "      <th>4</th>\n",
              "      <td>2</td>\n",
              "      <td>1615927</td>\n",
              "      <td>1</td>\n",
              "    </tr>\n",
              "    <tr>\n",
              "      <th>...</th>\n",
              "      <td>...</td>\n",
              "      <td>...</td>\n",
              "      <td>...</td>\n",
              "    </tr>\n",
              "    <tr>\n",
              "      <th>9437514</th>\n",
              "      <td>44797</td>\n",
              "      <td>293110</td>\n",
              "      <td>0</td>\n",
              "    </tr>\n",
              "    <tr>\n",
              "      <th>9437515</th>\n",
              "      <td>697685</td>\n",
              "      <td>946985</td>\n",
              "      <td>0</td>\n",
              "    </tr>\n",
              "    <tr>\n",
              "      <th>9437516</th>\n",
              "      <td>1245886</td>\n",
              "      <td>152689</td>\n",
              "      <td>0</td>\n",
              "    </tr>\n",
              "    <tr>\n",
              "      <th>9437517</th>\n",
              "      <td>853772</td>\n",
              "      <td>322974</td>\n",
              "      <td>0</td>\n",
              "    </tr>\n",
              "    <tr>\n",
              "      <th>9437518</th>\n",
              "      <td>1325887</td>\n",
              "      <td>1032769</td>\n",
              "      <td>0</td>\n",
              "    </tr>\n",
              "  </tbody>\n",
              "</table>\n",
              "<p>18875038 rows × 3 columns</p>\n",
              "</div>\n",
              "      <button class=\"colab-df-convert\" onclick=\"convertToInteractive('df-1d71b6c1-9810-4d0d-baf4-e02593e124de')\"\n",
              "              title=\"Convert this dataframe to an interactive table.\"\n",
              "              style=\"display:none;\">\n",
              "        \n",
              "  <svg xmlns=\"http://www.w3.org/2000/svg\" height=\"24px\"viewBox=\"0 0 24 24\"\n",
              "       width=\"24px\">\n",
              "    <path d=\"M0 0h24v24H0V0z\" fill=\"none\"/>\n",
              "    <path d=\"M18.56 5.44l.94 2.06.94-2.06 2.06-.94-2.06-.94-.94-2.06-.94 2.06-2.06.94zm-11 1L8.5 8.5l.94-2.06 2.06-.94-2.06-.94L8.5 2.5l-.94 2.06-2.06.94zm10 10l.94 2.06.94-2.06 2.06-.94-2.06-.94-.94-2.06-.94 2.06-2.06.94z\"/><path d=\"M17.41 7.96l-1.37-1.37c-.4-.4-.92-.59-1.43-.59-.52 0-1.04.2-1.43.59L10.3 9.45l-7.72 7.72c-.78.78-.78 2.05 0 2.83L4 21.41c.39.39.9.59 1.41.59.51 0 1.02-.2 1.41-.59l7.78-7.78 2.81-2.81c.8-.78.8-2.07 0-2.86zM5.41 20L4 18.59l7.72-7.72 1.47 1.35L5.41 20z\"/>\n",
              "  </svg>\n",
              "      </button>\n",
              "      \n",
              "  <style>\n",
              "    .colab-df-container {\n",
              "      display:flex;\n",
              "      flex-wrap:wrap;\n",
              "      gap: 12px;\n",
              "    }\n",
              "\n",
              "    .colab-df-convert {\n",
              "      background-color: #E8F0FE;\n",
              "      border: none;\n",
              "      border-radius: 50%;\n",
              "      cursor: pointer;\n",
              "      display: none;\n",
              "      fill: #1967D2;\n",
              "      height: 32px;\n",
              "      padding: 0 0 0 0;\n",
              "      width: 32px;\n",
              "    }\n",
              "\n",
              "    .colab-df-convert:hover {\n",
              "      background-color: #E2EBFA;\n",
              "      box-shadow: 0px 1px 2px rgba(60, 64, 67, 0.3), 0px 1px 3px 1px rgba(60, 64, 67, 0.15);\n",
              "      fill: #174EA6;\n",
              "    }\n",
              "\n",
              "    [theme=dark] .colab-df-convert {\n",
              "      background-color: #3B4455;\n",
              "      fill: #D2E3FC;\n",
              "    }\n",
              "\n",
              "    [theme=dark] .colab-df-convert:hover {\n",
              "      background-color: #434B5C;\n",
              "      box-shadow: 0px 1px 3px 1px rgba(0, 0, 0, 0.15);\n",
              "      filter: drop-shadow(0px 1px 2px rgba(0, 0, 0, 0.3));\n",
              "      fill: #FFFFFF;\n",
              "    }\n",
              "  </style>\n",
              "\n",
              "      <script>\n",
              "        const buttonEl =\n",
              "          document.querySelector('#df-1d71b6c1-9810-4d0d-baf4-e02593e124de button.colab-df-convert');\n",
              "        buttonEl.style.display =\n",
              "          google.colab.kernel.accessAllowed ? 'block' : 'none';\n",
              "\n",
              "        async function convertToInteractive(key) {\n",
              "          const element = document.querySelector('#df-1d71b6c1-9810-4d0d-baf4-e02593e124de');\n",
              "          const dataTable =\n",
              "            await google.colab.kernel.invokeFunction('convertToInteractive',\n",
              "                                                     [key], {});\n",
              "          if (!dataTable) return;\n",
              "\n",
              "          const docLinkHtml = 'Like what you see? Visit the ' +\n",
              "            '<a target=\"_blank\" href=https://colab.research.google.com/notebooks/data_table.ipynb>data table notebook</a>'\n",
              "            + ' to learn more about interactive tables.';\n",
              "          element.innerHTML = '';\n",
              "          dataTable['output_type'] = 'display_data';\n",
              "          await google.colab.output.renderOutput(dataTable, element);\n",
              "          const docLink = document.createElement('div');\n",
              "          docLink.innerHTML = docLinkHtml;\n",
              "          element.appendChild(docLink);\n",
              "        }\n",
              "      </script>\n",
              "    </div>\n",
              "  </div>\n",
              "  "
            ]
          },
          "metadata": {},
          "execution_count": 19
        }
      ],
      "source": [
        "#Final dataset without shuffling\n",
        "final_data_withoutshuffling"
      ]
    },
    {
      "cell_type": "code",
      "execution_count": null,
      "metadata": {
        "id": "g8wXyTVHV_ow"
      },
      "outputs": [],
      "source": [
        "#shuffling the data\n",
        "final_data= final_data_withoutshuffling.sample(frac = 1)"
      ]
    },
    {
      "cell_type": "code",
      "execution_count": null,
      "metadata": {
        "colab": {
          "base_uri": "https://localhost:8080/",
          "height": 424
        },
        "id": "h2F9Iv_tV_ow",
        "outputId": "291092b8-2cd3-474f-b198-44839a580d56"
      },
      "outputs": [
        {
          "output_type": "execute_result",
          "data": {
            "text/plain": [
              "         source_node  destination_node  link\n",
              "2633139       765241           1415495     0\n",
              "2238853       440345           1607842     1\n",
              "4567781       900553           1543779     1\n",
              "2053669      1410799           1286719     0\n",
              "6974004      1481315           1507382     0\n",
              "...              ...               ...   ...\n",
              "8503756       192378           1100423     0\n",
              "4221875      1499437           1786788     0\n",
              "7391276      1459155           1491776     1\n",
              "5905361      1482733            819104     0\n",
              "3250517       640551           1075634     1\n",
              "\n",
              "[18875038 rows x 3 columns]"
            ],
            "text/html": [
              "\n",
              "  <div id=\"df-9fd22a85-69f5-423a-8ce4-f7f2b9ae451a\">\n",
              "    <div class=\"colab-df-container\">\n",
              "      <div>\n",
              "<style scoped>\n",
              "    .dataframe tbody tr th:only-of-type {\n",
              "        vertical-align: middle;\n",
              "    }\n",
              "\n",
              "    .dataframe tbody tr th {\n",
              "        vertical-align: top;\n",
              "    }\n",
              "\n",
              "    .dataframe thead th {\n",
              "        text-align: right;\n",
              "    }\n",
              "</style>\n",
              "<table border=\"1\" class=\"dataframe\">\n",
              "  <thead>\n",
              "    <tr style=\"text-align: right;\">\n",
              "      <th></th>\n",
              "      <th>source_node</th>\n",
              "      <th>destination_node</th>\n",
              "      <th>link</th>\n",
              "    </tr>\n",
              "  </thead>\n",
              "  <tbody>\n",
              "    <tr>\n",
              "      <th>2633139</th>\n",
              "      <td>765241</td>\n",
              "      <td>1415495</td>\n",
              "      <td>0</td>\n",
              "    </tr>\n",
              "    <tr>\n",
              "      <th>2238853</th>\n",
              "      <td>440345</td>\n",
              "      <td>1607842</td>\n",
              "      <td>1</td>\n",
              "    </tr>\n",
              "    <tr>\n",
              "      <th>4567781</th>\n",
              "      <td>900553</td>\n",
              "      <td>1543779</td>\n",
              "      <td>1</td>\n",
              "    </tr>\n",
              "    <tr>\n",
              "      <th>2053669</th>\n",
              "      <td>1410799</td>\n",
              "      <td>1286719</td>\n",
              "      <td>0</td>\n",
              "    </tr>\n",
              "    <tr>\n",
              "      <th>6974004</th>\n",
              "      <td>1481315</td>\n",
              "      <td>1507382</td>\n",
              "      <td>0</td>\n",
              "    </tr>\n",
              "    <tr>\n",
              "      <th>...</th>\n",
              "      <td>...</td>\n",
              "      <td>...</td>\n",
              "      <td>...</td>\n",
              "    </tr>\n",
              "    <tr>\n",
              "      <th>8503756</th>\n",
              "      <td>192378</td>\n",
              "      <td>1100423</td>\n",
              "      <td>0</td>\n",
              "    </tr>\n",
              "    <tr>\n",
              "      <th>4221875</th>\n",
              "      <td>1499437</td>\n",
              "      <td>1786788</td>\n",
              "      <td>0</td>\n",
              "    </tr>\n",
              "    <tr>\n",
              "      <th>7391276</th>\n",
              "      <td>1459155</td>\n",
              "      <td>1491776</td>\n",
              "      <td>1</td>\n",
              "    </tr>\n",
              "    <tr>\n",
              "      <th>5905361</th>\n",
              "      <td>1482733</td>\n",
              "      <td>819104</td>\n",
              "      <td>0</td>\n",
              "    </tr>\n",
              "    <tr>\n",
              "      <th>3250517</th>\n",
              "      <td>640551</td>\n",
              "      <td>1075634</td>\n",
              "      <td>1</td>\n",
              "    </tr>\n",
              "  </tbody>\n",
              "</table>\n",
              "<p>18875038 rows × 3 columns</p>\n",
              "</div>\n",
              "      <button class=\"colab-df-convert\" onclick=\"convertToInteractive('df-9fd22a85-69f5-423a-8ce4-f7f2b9ae451a')\"\n",
              "              title=\"Convert this dataframe to an interactive table.\"\n",
              "              style=\"display:none;\">\n",
              "        \n",
              "  <svg xmlns=\"http://www.w3.org/2000/svg\" height=\"24px\"viewBox=\"0 0 24 24\"\n",
              "       width=\"24px\">\n",
              "    <path d=\"M0 0h24v24H0V0z\" fill=\"none\"/>\n",
              "    <path d=\"M18.56 5.44l.94 2.06.94-2.06 2.06-.94-2.06-.94-.94-2.06-.94 2.06-2.06.94zm-11 1L8.5 8.5l.94-2.06 2.06-.94-2.06-.94L8.5 2.5l-.94 2.06-2.06.94zm10 10l.94 2.06.94-2.06 2.06-.94-2.06-.94-.94-2.06-.94 2.06-2.06.94z\"/><path d=\"M17.41 7.96l-1.37-1.37c-.4-.4-.92-.59-1.43-.59-.52 0-1.04.2-1.43.59L10.3 9.45l-7.72 7.72c-.78.78-.78 2.05 0 2.83L4 21.41c.39.39.9.59 1.41.59.51 0 1.02-.2 1.41-.59l7.78-7.78 2.81-2.81c.8-.78.8-2.07 0-2.86zM5.41 20L4 18.59l7.72-7.72 1.47 1.35L5.41 20z\"/>\n",
              "  </svg>\n",
              "      </button>\n",
              "      \n",
              "  <style>\n",
              "    .colab-df-container {\n",
              "      display:flex;\n",
              "      flex-wrap:wrap;\n",
              "      gap: 12px;\n",
              "    }\n",
              "\n",
              "    .colab-df-convert {\n",
              "      background-color: #E8F0FE;\n",
              "      border: none;\n",
              "      border-radius: 50%;\n",
              "      cursor: pointer;\n",
              "      display: none;\n",
              "      fill: #1967D2;\n",
              "      height: 32px;\n",
              "      padding: 0 0 0 0;\n",
              "      width: 32px;\n",
              "    }\n",
              "\n",
              "    .colab-df-convert:hover {\n",
              "      background-color: #E2EBFA;\n",
              "      box-shadow: 0px 1px 2px rgba(60, 64, 67, 0.3), 0px 1px 3px 1px rgba(60, 64, 67, 0.15);\n",
              "      fill: #174EA6;\n",
              "    }\n",
              "\n",
              "    [theme=dark] .colab-df-convert {\n",
              "      background-color: #3B4455;\n",
              "      fill: #D2E3FC;\n",
              "    }\n",
              "\n",
              "    [theme=dark] .colab-df-convert:hover {\n",
              "      background-color: #434B5C;\n",
              "      box-shadow: 0px 1px 3px 1px rgba(0, 0, 0, 0.15);\n",
              "      filter: drop-shadow(0px 1px 2px rgba(0, 0, 0, 0.3));\n",
              "      fill: #FFFFFF;\n",
              "    }\n",
              "  </style>\n",
              "\n",
              "      <script>\n",
              "        const buttonEl =\n",
              "          document.querySelector('#df-9fd22a85-69f5-423a-8ce4-f7f2b9ae451a button.colab-df-convert');\n",
              "        buttonEl.style.display =\n",
              "          google.colab.kernel.accessAllowed ? 'block' : 'none';\n",
              "\n",
              "        async function convertToInteractive(key) {\n",
              "          const element = document.querySelector('#df-9fd22a85-69f5-423a-8ce4-f7f2b9ae451a');\n",
              "          const dataTable =\n",
              "            await google.colab.kernel.invokeFunction('convertToInteractive',\n",
              "                                                     [key], {});\n",
              "          if (!dataTable) return;\n",
              "\n",
              "          const docLinkHtml = 'Like what you see? Visit the ' +\n",
              "            '<a target=\"_blank\" href=https://colab.research.google.com/notebooks/data_table.ipynb>data table notebook</a>'\n",
              "            + ' to learn more about interactive tables.';\n",
              "          element.innerHTML = '';\n",
              "          dataTable['output_type'] = 'display_data';\n",
              "          await google.colab.output.renderOutput(dataTable, element);\n",
              "          const docLink = document.createElement('div');\n",
              "          docLink.innerHTML = docLinkHtml;\n",
              "          element.appendChild(docLink);\n",
              "        }\n",
              "      </script>\n",
              "    </div>\n",
              "  </div>\n",
              "  "
            ]
          },
          "metadata": {},
          "execution_count": 31
        }
      ],
      "source": [
        "final_data"
      ]
    },
    {
      "cell_type": "code",
      "source": [
        "#save the dataset to read that later\n",
        "final_data.to_csv('final_train.csv',index=False)"
      ],
      "metadata": {
        "id": "LfCG5BWRwgfh"
      },
      "execution_count": null,
      "outputs": []
    },
    {
      "cell_type": "code",
      "source": [
        "final_data=pd.read_csv(\"/content/drive/MyDrive/final_train.csv\")"
      ],
      "metadata": {
        "id": "60_WuUxW6hbH"
      },
      "execution_count": null,
      "outputs": []
    },
    {
      "cell_type": "code",
      "source": [
        "#we took random subset of the dataset for feature extraction\n",
        "final_data_sampled=final_data.sample(frac = 0.42)"
      ],
      "metadata": {
        "id": "c2aIlO8MvDKl"
      },
      "execution_count": null,
      "outputs": []
    },
    {
      "cell_type": "code",
      "source": [
        "final_data_sampled.shape"
      ],
      "metadata": {
        "colab": {
          "base_uri": "https://localhost:8080/"
        },
        "id": "j79AILHFvMRl",
        "outputId": "e4fa0be7-549b-432b-f7c4-566d352373d5"
      },
      "execution_count": null,
      "outputs": [
        {
          "output_type": "execute_result",
          "data": {
            "text/plain": [
              "(7927516, 3)"
            ]
          },
          "metadata": {},
          "execution_count": 12
        }
      ]
    },
    {
      "cell_type": "code",
      "execution_count": null,
      "metadata": {
        "id": "mDFR0lv7V_ox",
        "colab": {
          "base_uri": "https://localhost:8080/",
          "height": 206
        },
        "outputId": "ad6e61c4-29bc-476b-88d0-7b55f9485a7b"
      },
      "outputs": [
        {
          "output_type": "execute_result",
          "data": {
            "text/plain": [
              "          source_node  destination_node  link\n",
              "9166513       1008440            498782     1\n",
              "18477251       215787            666606     1\n",
              "5798846        498953           1718680     0\n",
              "12824844      1189559           1437319     0\n",
              "9494948        257821           1046886     0"
            ],
            "text/html": [
              "\n",
              "  <div id=\"df-b39d451a-f2d8-4ac0-b5f9-ef802ca3a25a\">\n",
              "    <div class=\"colab-df-container\">\n",
              "      <div>\n",
              "<style scoped>\n",
              "    .dataframe tbody tr th:only-of-type {\n",
              "        vertical-align: middle;\n",
              "    }\n",
              "\n",
              "    .dataframe tbody tr th {\n",
              "        vertical-align: top;\n",
              "    }\n",
              "\n",
              "    .dataframe thead th {\n",
              "        text-align: right;\n",
              "    }\n",
              "</style>\n",
              "<table border=\"1\" class=\"dataframe\">\n",
              "  <thead>\n",
              "    <tr style=\"text-align: right;\">\n",
              "      <th></th>\n",
              "      <th>source_node</th>\n",
              "      <th>destination_node</th>\n",
              "      <th>link</th>\n",
              "    </tr>\n",
              "  </thead>\n",
              "  <tbody>\n",
              "    <tr>\n",
              "      <th>9166513</th>\n",
              "      <td>1008440</td>\n",
              "      <td>498782</td>\n",
              "      <td>1</td>\n",
              "    </tr>\n",
              "    <tr>\n",
              "      <th>18477251</th>\n",
              "      <td>215787</td>\n",
              "      <td>666606</td>\n",
              "      <td>1</td>\n",
              "    </tr>\n",
              "    <tr>\n",
              "      <th>5798846</th>\n",
              "      <td>498953</td>\n",
              "      <td>1718680</td>\n",
              "      <td>0</td>\n",
              "    </tr>\n",
              "    <tr>\n",
              "      <th>12824844</th>\n",
              "      <td>1189559</td>\n",
              "      <td>1437319</td>\n",
              "      <td>0</td>\n",
              "    </tr>\n",
              "    <tr>\n",
              "      <th>9494948</th>\n",
              "      <td>257821</td>\n",
              "      <td>1046886</td>\n",
              "      <td>0</td>\n",
              "    </tr>\n",
              "  </tbody>\n",
              "</table>\n",
              "</div>\n",
              "      <button class=\"colab-df-convert\" onclick=\"convertToInteractive('df-b39d451a-f2d8-4ac0-b5f9-ef802ca3a25a')\"\n",
              "              title=\"Convert this dataframe to an interactive table.\"\n",
              "              style=\"display:none;\">\n",
              "        \n",
              "  <svg xmlns=\"http://www.w3.org/2000/svg\" height=\"24px\"viewBox=\"0 0 24 24\"\n",
              "       width=\"24px\">\n",
              "    <path d=\"M0 0h24v24H0V0z\" fill=\"none\"/>\n",
              "    <path d=\"M18.56 5.44l.94 2.06.94-2.06 2.06-.94-2.06-.94-.94-2.06-.94 2.06-2.06.94zm-11 1L8.5 8.5l.94-2.06 2.06-.94-2.06-.94L8.5 2.5l-.94 2.06-2.06.94zm10 10l.94 2.06.94-2.06 2.06-.94-2.06-.94-.94-2.06-.94 2.06-2.06.94z\"/><path d=\"M17.41 7.96l-1.37-1.37c-.4-.4-.92-.59-1.43-.59-.52 0-1.04.2-1.43.59L10.3 9.45l-7.72 7.72c-.78.78-.78 2.05 0 2.83L4 21.41c.39.39.9.59 1.41.59.51 0 1.02-.2 1.41-.59l7.78-7.78 2.81-2.81c.8-.78.8-2.07 0-2.86zM5.41 20L4 18.59l7.72-7.72 1.47 1.35L5.41 20z\"/>\n",
              "  </svg>\n",
              "      </button>\n",
              "      \n",
              "  <style>\n",
              "    .colab-df-container {\n",
              "      display:flex;\n",
              "      flex-wrap:wrap;\n",
              "      gap: 12px;\n",
              "    }\n",
              "\n",
              "    .colab-df-convert {\n",
              "      background-color: #E8F0FE;\n",
              "      border: none;\n",
              "      border-radius: 50%;\n",
              "      cursor: pointer;\n",
              "      display: none;\n",
              "      fill: #1967D2;\n",
              "      height: 32px;\n",
              "      padding: 0 0 0 0;\n",
              "      width: 32px;\n",
              "    }\n",
              "\n",
              "    .colab-df-convert:hover {\n",
              "      background-color: #E2EBFA;\n",
              "      box-shadow: 0px 1px 2px rgba(60, 64, 67, 0.3), 0px 1px 3px 1px rgba(60, 64, 67, 0.15);\n",
              "      fill: #174EA6;\n",
              "    }\n",
              "\n",
              "    [theme=dark] .colab-df-convert {\n",
              "      background-color: #3B4455;\n",
              "      fill: #D2E3FC;\n",
              "    }\n",
              "\n",
              "    [theme=dark] .colab-df-convert:hover {\n",
              "      background-color: #434B5C;\n",
              "      box-shadow: 0px 1px 3px 1px rgba(0, 0, 0, 0.15);\n",
              "      filter: drop-shadow(0px 1px 2px rgba(0, 0, 0, 0.3));\n",
              "      fill: #FFFFFF;\n",
              "    }\n",
              "  </style>\n",
              "\n",
              "      <script>\n",
              "        const buttonEl =\n",
              "          document.querySelector('#df-b39d451a-f2d8-4ac0-b5f9-ef802ca3a25a button.colab-df-convert');\n",
              "        buttonEl.style.display =\n",
              "          google.colab.kernel.accessAllowed ? 'block' : 'none';\n",
              "\n",
              "        async function convertToInteractive(key) {\n",
              "          const element = document.querySelector('#df-b39d451a-f2d8-4ac0-b5f9-ef802ca3a25a');\n",
              "          const dataTable =\n",
              "            await google.colab.kernel.invokeFunction('convertToInteractive',\n",
              "                                                     [key], {});\n",
              "          if (!dataTable) return;\n",
              "\n",
              "          const docLinkHtml = 'Like what you see? Visit the ' +\n",
              "            '<a target=\"_blank\" href=https://colab.research.google.com/notebooks/data_table.ipynb>data table notebook</a>'\n",
              "            + ' to learn more about interactive tables.';\n",
              "          element.innerHTML = '';\n",
              "          dataTable['output_type'] = 'display_data';\n",
              "          await google.colab.output.renderOutput(dataTable, element);\n",
              "          const docLink = document.createElement('div');\n",
              "          docLink.innerHTML = docLinkHtml;\n",
              "          element.appendChild(docLink);\n",
              "        }\n",
              "      </script>\n",
              "    </div>\n",
              "  </div>\n",
              "  "
            ]
          },
          "metadata": {},
          "execution_count": 19
        }
      ],
      "source": [
        "#Train-test split\n",
        "from sklearn.model_selection import train_test_split\n",
        "\n",
        "train, test = train_test_split(final_data_sampled, test_size=0.2)\n",
        "train.head()"
      ]
    },
    {
      "cell_type": "code",
      "source": [
        "#Saving the files for future use\n",
        "train.to_csv('final_train.csv',index=False)\n",
        "test.to_csv('final_test.csv',index=False)"
      ],
      "metadata": {
        "id": "qLkrS4vXkgg8"
      },
      "execution_count": null,
      "outputs": []
    },
    {
      "cell_type": "code",
      "source": [
        "train=pd.read_csv('final_train.csv')\n",
        "test=pd.read_csv('final_test.csv')\n",
        "train.head()"
      ],
      "metadata": {
        "colab": {
          "base_uri": "https://localhost:8080/",
          "height": 206
        },
        "id": "NWH0LwzJhJbL",
        "outputId": "aaf04c31-fd7a-4bdb-a3ed-06254b10e0ae"
      },
      "execution_count": null,
      "outputs": [
        {
          "output_type": "execute_result",
          "data": {
            "text/plain": [
              "   source_node  destination_node  link\n",
              "0      1008440            498782     1\n",
              "1       215787            666606     1\n",
              "2       498953           1718680     0\n",
              "3      1189559           1437319     0\n",
              "4       257821           1046886     0"
            ],
            "text/html": [
              "\n",
              "  <div id=\"df-49b1cf0b-8b1b-4b43-a2c4-192c9f70bbd7\">\n",
              "    <div class=\"colab-df-container\">\n",
              "      <div>\n",
              "<style scoped>\n",
              "    .dataframe tbody tr th:only-of-type {\n",
              "        vertical-align: middle;\n",
              "    }\n",
              "\n",
              "    .dataframe tbody tr th {\n",
              "        vertical-align: top;\n",
              "    }\n",
              "\n",
              "    .dataframe thead th {\n",
              "        text-align: right;\n",
              "    }\n",
              "</style>\n",
              "<table border=\"1\" class=\"dataframe\">\n",
              "  <thead>\n",
              "    <tr style=\"text-align: right;\">\n",
              "      <th></th>\n",
              "      <th>source_node</th>\n",
              "      <th>destination_node</th>\n",
              "      <th>link</th>\n",
              "    </tr>\n",
              "  </thead>\n",
              "  <tbody>\n",
              "    <tr>\n",
              "      <th>0</th>\n",
              "      <td>1008440</td>\n",
              "      <td>498782</td>\n",
              "      <td>1</td>\n",
              "    </tr>\n",
              "    <tr>\n",
              "      <th>1</th>\n",
              "      <td>215787</td>\n",
              "      <td>666606</td>\n",
              "      <td>1</td>\n",
              "    </tr>\n",
              "    <tr>\n",
              "      <th>2</th>\n",
              "      <td>498953</td>\n",
              "      <td>1718680</td>\n",
              "      <td>0</td>\n",
              "    </tr>\n",
              "    <tr>\n",
              "      <th>3</th>\n",
              "      <td>1189559</td>\n",
              "      <td>1437319</td>\n",
              "      <td>0</td>\n",
              "    </tr>\n",
              "    <tr>\n",
              "      <th>4</th>\n",
              "      <td>257821</td>\n",
              "      <td>1046886</td>\n",
              "      <td>0</td>\n",
              "    </tr>\n",
              "  </tbody>\n",
              "</table>\n",
              "</div>\n",
              "      <button class=\"colab-df-convert\" onclick=\"convertToInteractive('df-49b1cf0b-8b1b-4b43-a2c4-192c9f70bbd7')\"\n",
              "              title=\"Convert this dataframe to an interactive table.\"\n",
              "              style=\"display:none;\">\n",
              "        \n",
              "  <svg xmlns=\"http://www.w3.org/2000/svg\" height=\"24px\"viewBox=\"0 0 24 24\"\n",
              "       width=\"24px\">\n",
              "    <path d=\"M0 0h24v24H0V0z\" fill=\"none\"/>\n",
              "    <path d=\"M18.56 5.44l.94 2.06.94-2.06 2.06-.94-2.06-.94-.94-2.06-.94 2.06-2.06.94zm-11 1L8.5 8.5l.94-2.06 2.06-.94-2.06-.94L8.5 2.5l-.94 2.06-2.06.94zm10 10l.94 2.06.94-2.06 2.06-.94-2.06-.94-.94-2.06-.94 2.06-2.06.94z\"/><path d=\"M17.41 7.96l-1.37-1.37c-.4-.4-.92-.59-1.43-.59-.52 0-1.04.2-1.43.59L10.3 9.45l-7.72 7.72c-.78.78-.78 2.05 0 2.83L4 21.41c.39.39.9.59 1.41.59.51 0 1.02-.2 1.41-.59l7.78-7.78 2.81-2.81c.8-.78.8-2.07 0-2.86zM5.41 20L4 18.59l7.72-7.72 1.47 1.35L5.41 20z\"/>\n",
              "  </svg>\n",
              "      </button>\n",
              "      \n",
              "  <style>\n",
              "    .colab-df-container {\n",
              "      display:flex;\n",
              "      flex-wrap:wrap;\n",
              "      gap: 12px;\n",
              "    }\n",
              "\n",
              "    .colab-df-convert {\n",
              "      background-color: #E8F0FE;\n",
              "      border: none;\n",
              "      border-radius: 50%;\n",
              "      cursor: pointer;\n",
              "      display: none;\n",
              "      fill: #1967D2;\n",
              "      height: 32px;\n",
              "      padding: 0 0 0 0;\n",
              "      width: 32px;\n",
              "    }\n",
              "\n",
              "    .colab-df-convert:hover {\n",
              "      background-color: #E2EBFA;\n",
              "      box-shadow: 0px 1px 2px rgba(60, 64, 67, 0.3), 0px 1px 3px 1px rgba(60, 64, 67, 0.15);\n",
              "      fill: #174EA6;\n",
              "    }\n",
              "\n",
              "    [theme=dark] .colab-df-convert {\n",
              "      background-color: #3B4455;\n",
              "      fill: #D2E3FC;\n",
              "    }\n",
              "\n",
              "    [theme=dark] .colab-df-convert:hover {\n",
              "      background-color: #434B5C;\n",
              "      box-shadow: 0px 1px 3px 1px rgba(0, 0, 0, 0.15);\n",
              "      filter: drop-shadow(0px 1px 2px rgba(0, 0, 0, 0.3));\n",
              "      fill: #FFFFFF;\n",
              "    }\n",
              "  </style>\n",
              "\n",
              "      <script>\n",
              "        const buttonEl =\n",
              "          document.querySelector('#df-49b1cf0b-8b1b-4b43-a2c4-192c9f70bbd7 button.colab-df-convert');\n",
              "        buttonEl.style.display =\n",
              "          google.colab.kernel.accessAllowed ? 'block' : 'none';\n",
              "\n",
              "        async function convertToInteractive(key) {\n",
              "          const element = document.querySelector('#df-49b1cf0b-8b1b-4b43-a2c4-192c9f70bbd7');\n",
              "          const dataTable =\n",
              "            await google.colab.kernel.invokeFunction('convertToInteractive',\n",
              "                                                     [key], {});\n",
              "          if (!dataTable) return;\n",
              "\n",
              "          const docLinkHtml = 'Like what you see? Visit the ' +\n",
              "            '<a target=\"_blank\" href=https://colab.research.google.com/notebooks/data_table.ipynb>data table notebook</a>'\n",
              "            + ' to learn more about interactive tables.';\n",
              "          element.innerHTML = '';\n",
              "          dataTable['output_type'] = 'display_data';\n",
              "          await google.colab.output.renderOutput(dataTable, element);\n",
              "          const docLink = document.createElement('div');\n",
              "          docLink.innerHTML = docLinkHtml;\n",
              "          element.appendChild(docLink);\n",
              "        }\n",
              "      </script>\n",
              "    </div>\n",
              "  </div>\n",
              "  "
            ]
          },
          "metadata": {},
          "execution_count": 25
        }
      ]
    },
    {
      "cell_type": "code",
      "source": [
        "#This function computtes all the followers and followees information\n",
        "def compute_features_stage1(train):\n",
        "  num_followers_s=[]\n",
        "  num_followees_s=[]\n",
        "  num_followers_d=[]\n",
        "  num_followees_d=[]\n",
        "  inter_followers=[]\n",
        "  inter_followees=[]\n",
        "  #print(train.shape)\n",
        "  #count=0\n",
        "  for i,row in  train.iterrows():\n",
        "    #print('ith datarow',count)\n",
        "    #count=count+1\n",
        "    #if(count==train.shape[0]):\n",
        "    #  break\n",
        "    try:\n",
        "      s1=set(g.predecessors(row['source_node']))\n",
        "      s2=set(g.successors(row['source_node']))\n",
        "    except:\n",
        "      s1=set()\n",
        "      s2=set()\n",
        "    try:\n",
        "      d1=set(g.predecessors(row['destination_node']))\n",
        "      d2=set(g.successors(row['destination_node']))\n",
        "    except:\n",
        "      d1=set()\n",
        "      d2=set()  \n",
        "      num_followers_s.append(len(s1))\n",
        "      num_followees_s.append(len(s2))\n",
        "      num_followers_d.append(len(d1))\n",
        "      num_followees_d.append(len(d2))\n",
        "      inter_followers.append(len(s1.intersection(d1)))\n",
        "      inter_followees.append(len(s2.intersection(d2)))\n",
        "    \n",
        "  print(\"Success\")\n",
        "  return  num_followers_s,num_followees_s,num_followers_d,num_followees_d,inter_followers,inter_followees\n"
      ],
      "metadata": {
        "id": "OWNw8vUSw5aE"
      },
      "execution_count": null,
      "outputs": []
    },
    {
      "cell_type": "code",
      "source": [
        "#storing the follower feataures\n",
        "train['num_followers_s'],train['num_followers_d'], train['num_followees_s'],train['num_followees_d'],train['inter_followers'],train['inter_followees']= compute_features_stage1(train)"
      ],
      "metadata": {
        "id": "oXBhKX--NW9u"
      },
      "execution_count": null,
      "outputs": []
    },
    {
      "cell_type": "code",
      "source": [
        "test['num_followers_s'],test['num_followers_d'], test['num_followees_s'],test['num_followees_d'],test['inter_followers'],test['inter_followees']= compute_features_stage1(test)"
      ],
      "metadata": {
        "id": "bUkyvLgiCXaR"
      },
      "execution_count": null,
      "outputs": []
    },
    {
      "cell_type": "code",
      "source": [
        "#saving for future use \n",
        "train.to_csv('train_withoutheaderbasicfeatures.csv',index=False)"
      ],
      "metadata": {
        "id": "22MaIbqvsStu"
      },
      "execution_count": null,
      "outputs": []
    },
    {
      "cell_type": "code",
      "source": [
        "train=pd.read_csv('train_withoutheaderbasicfeatures.csv')\n",
        "train.head()"
      ],
      "metadata": {
        "colab": {
          "base_uri": "https://localhost:8080/",
          "height": 270
        },
        "id": "f9AstQPFMdz0",
        "outputId": "03a14173-43f8-4464-9a3d-412cf604c081"
      },
      "execution_count": null,
      "outputs": [
        {
          "output_type": "execute_result",
          "data": {
            "text/plain": [
              "   source_node  destination_node  link  num_followers_s  num_followers_d  \\\n",
              "0       739939           1029952     1                0                0   \n",
              "1      1463342            418049     0                0                0   \n",
              "2       971987            887112     1                0                0   \n",
              "3       906632            917129     0                0                0   \n",
              "4       789066           1772109     1                0                0   \n",
              "\n",
              "   num_followees_s  num_followees_d  inter_followers  inter_followees  \n",
              "0                0                0                0                0  \n",
              "1                0                0                0                0  \n",
              "2                0                0                0                0  \n",
              "3                0                0                0                0  \n",
              "4                0                0                0                0  "
            ],
            "text/html": [
              "\n",
              "  <div id=\"df-f3eebe68-469d-456f-9dcc-053271d9ebaa\">\n",
              "    <div class=\"colab-df-container\">\n",
              "      <div>\n",
              "<style scoped>\n",
              "    .dataframe tbody tr th:only-of-type {\n",
              "        vertical-align: middle;\n",
              "    }\n",
              "\n",
              "    .dataframe tbody tr th {\n",
              "        vertical-align: top;\n",
              "    }\n",
              "\n",
              "    .dataframe thead th {\n",
              "        text-align: right;\n",
              "    }\n",
              "</style>\n",
              "<table border=\"1\" class=\"dataframe\">\n",
              "  <thead>\n",
              "    <tr style=\"text-align: right;\">\n",
              "      <th></th>\n",
              "      <th>source_node</th>\n",
              "      <th>destination_node</th>\n",
              "      <th>link</th>\n",
              "      <th>num_followers_s</th>\n",
              "      <th>num_followers_d</th>\n",
              "      <th>num_followees_s</th>\n",
              "      <th>num_followees_d</th>\n",
              "      <th>inter_followers</th>\n",
              "      <th>inter_followees</th>\n",
              "    </tr>\n",
              "  </thead>\n",
              "  <tbody>\n",
              "    <tr>\n",
              "      <th>0</th>\n",
              "      <td>739939</td>\n",
              "      <td>1029952</td>\n",
              "      <td>1</td>\n",
              "      <td>0</td>\n",
              "      <td>0</td>\n",
              "      <td>0</td>\n",
              "      <td>0</td>\n",
              "      <td>0</td>\n",
              "      <td>0</td>\n",
              "    </tr>\n",
              "    <tr>\n",
              "      <th>1</th>\n",
              "      <td>1463342</td>\n",
              "      <td>418049</td>\n",
              "      <td>0</td>\n",
              "      <td>0</td>\n",
              "      <td>0</td>\n",
              "      <td>0</td>\n",
              "      <td>0</td>\n",
              "      <td>0</td>\n",
              "      <td>0</td>\n",
              "    </tr>\n",
              "    <tr>\n",
              "      <th>2</th>\n",
              "      <td>971987</td>\n",
              "      <td>887112</td>\n",
              "      <td>1</td>\n",
              "      <td>0</td>\n",
              "      <td>0</td>\n",
              "      <td>0</td>\n",
              "      <td>0</td>\n",
              "      <td>0</td>\n",
              "      <td>0</td>\n",
              "    </tr>\n",
              "    <tr>\n",
              "      <th>3</th>\n",
              "      <td>906632</td>\n",
              "      <td>917129</td>\n",
              "      <td>0</td>\n",
              "      <td>0</td>\n",
              "      <td>0</td>\n",
              "      <td>0</td>\n",
              "      <td>0</td>\n",
              "      <td>0</td>\n",
              "      <td>0</td>\n",
              "    </tr>\n",
              "    <tr>\n",
              "      <th>4</th>\n",
              "      <td>789066</td>\n",
              "      <td>1772109</td>\n",
              "      <td>1</td>\n",
              "      <td>0</td>\n",
              "      <td>0</td>\n",
              "      <td>0</td>\n",
              "      <td>0</td>\n",
              "      <td>0</td>\n",
              "      <td>0</td>\n",
              "    </tr>\n",
              "  </tbody>\n",
              "</table>\n",
              "</div>\n",
              "      <button class=\"colab-df-convert\" onclick=\"convertToInteractive('df-f3eebe68-469d-456f-9dcc-053271d9ebaa')\"\n",
              "              title=\"Convert this dataframe to an interactive table.\"\n",
              "              style=\"display:none;\">\n",
              "        \n",
              "  <svg xmlns=\"http://www.w3.org/2000/svg\" height=\"24px\"viewBox=\"0 0 24 24\"\n",
              "       width=\"24px\">\n",
              "    <path d=\"M0 0h24v24H0V0z\" fill=\"none\"/>\n",
              "    <path d=\"M18.56 5.44l.94 2.06.94-2.06 2.06-.94-2.06-.94-.94-2.06-.94 2.06-2.06.94zm-11 1L8.5 8.5l.94-2.06 2.06-.94-2.06-.94L8.5 2.5l-.94 2.06-2.06.94zm10 10l.94 2.06.94-2.06 2.06-.94-2.06-.94-.94-2.06-.94 2.06-2.06.94z\"/><path d=\"M17.41 7.96l-1.37-1.37c-.4-.4-.92-.59-1.43-.59-.52 0-1.04.2-1.43.59L10.3 9.45l-7.72 7.72c-.78.78-.78 2.05 0 2.83L4 21.41c.39.39.9.59 1.41.59.51 0 1.02-.2 1.41-.59l7.78-7.78 2.81-2.81c.8-.78.8-2.07 0-2.86zM5.41 20L4 18.59l7.72-7.72 1.47 1.35L5.41 20z\"/>\n",
              "  </svg>\n",
              "      </button>\n",
              "      \n",
              "  <style>\n",
              "    .colab-df-container {\n",
              "      display:flex;\n",
              "      flex-wrap:wrap;\n",
              "      gap: 12px;\n",
              "    }\n",
              "\n",
              "    .colab-df-convert {\n",
              "      background-color: #E8F0FE;\n",
              "      border: none;\n",
              "      border-radius: 50%;\n",
              "      cursor: pointer;\n",
              "      display: none;\n",
              "      fill: #1967D2;\n",
              "      height: 32px;\n",
              "      padding: 0 0 0 0;\n",
              "      width: 32px;\n",
              "    }\n",
              "\n",
              "    .colab-df-convert:hover {\n",
              "      background-color: #E2EBFA;\n",
              "      box-shadow: 0px 1px 2px rgba(60, 64, 67, 0.3), 0px 1px 3px 1px rgba(60, 64, 67, 0.15);\n",
              "      fill: #174EA6;\n",
              "    }\n",
              "\n",
              "    [theme=dark] .colab-df-convert {\n",
              "      background-color: #3B4455;\n",
              "      fill: #D2E3FC;\n",
              "    }\n",
              "\n",
              "    [theme=dark] .colab-df-convert:hover {\n",
              "      background-color: #434B5C;\n",
              "      box-shadow: 0px 1px 3px 1px rgba(0, 0, 0, 0.15);\n",
              "      filter: drop-shadow(0px 1px 2px rgba(0, 0, 0, 0.3));\n",
              "      fill: #FFFFFF;\n",
              "    }\n",
              "  </style>\n",
              "\n",
              "      <script>\n",
              "        const buttonEl =\n",
              "          document.querySelector('#df-f3eebe68-469d-456f-9dcc-053271d9ebaa button.colab-df-convert');\n",
              "        buttonEl.style.display =\n",
              "          google.colab.kernel.accessAllowed ? 'block' : 'none';\n",
              "\n",
              "        async function convertToInteractive(key) {\n",
              "          const element = document.querySelector('#df-f3eebe68-469d-456f-9dcc-053271d9ebaa');\n",
              "          const dataTable =\n",
              "            await google.colab.kernel.invokeFunction('convertToInteractive',\n",
              "                                                     [key], {});\n",
              "          if (!dataTable) return;\n",
              "\n",
              "          const docLinkHtml = 'Like what you see? Visit the ' +\n",
              "            '<a target=\"_blank\" href=https://colab.research.google.com/notebooks/data_table.ipynb>data table notebook</a>'\n",
              "            + ' to learn more about interactive tables.';\n",
              "          element.innerHTML = '';\n",
              "          dataTable['output_type'] = 'display_data';\n",
              "          await google.colab.output.renderOutput(dataTable, element);\n",
              "          const docLink = document.createElement('div');\n",
              "          docLink.innerHTML = docLinkHtml;\n",
              "          element.appendChild(docLink);\n",
              "        }\n",
              "      </script>\n",
              "    </div>\n",
              "  </div>\n",
              "  "
            ]
          },
          "metadata": {},
          "execution_count": 13
        }
      ]
    },
    {
      "cell_type": "code",
      "source": [
        "test.to_csv('test_withoutheaderbasicfeatures.csv',index=False)"
      ],
      "metadata": {
        "id": "av2wBiY6ERRZ"
      },
      "execution_count": null,
      "outputs": []
    },
    {
      "cell_type": "code",
      "source": [
        "#Calculate Jarrard distance for followee\n",
        "def jaccard_distance_followee(a,b):\n",
        "    try:\n",
        "        if len(set(g.successors(a))) == 0  | len(set(g.successors(b))) == 0:\n",
        "            return 0\n",
        "        else:\n",
        "          followee = (len(set(g.successors(a)).intersection(set(g.successors(b)))))/\\\n",
        "                                    (len(set(g.successors(a)).union(set(g.successors(b)))))\n",
        "          return followee                          \n",
        "    \n",
        "\n",
        "    \n",
        "    except:\n",
        "      return 0\n",
        "\n",
        "   "
      ],
      "metadata": {
        "id": "6zUKIXXXup2s"
      },
      "execution_count": null,
      "outputs": []
    },
    {
      "cell_type": "code",
      "source": [
        "#calculate jacard distance for followee\n",
        "def jaccard_distance_followers(a,b):\n",
        "    try:\n",
        "        if len(set(g.predecessors(a))) == 0  | len(set(g.predecessors(b))) == 0:\n",
        "            return 0\n",
        "        sim = (len(set(g.predecessors(a)).intersection(set(g.predecessors(b)))))/\\\n",
        "                                 (len(set(g.predecessors(a)).union(set(g.predecessors(b)))))\n",
        "        return sim\n",
        "    except:\n",
        "        return 0"
      ],
      "metadata": {
        "id": "3cheb7lVfh0h"
      },
      "execution_count": null,
      "outputs": []
    },
    {
      "cell_type": "code",
      "source": [
        "#storing the jaacard followee and follower information \n",
        "train['jaccard_followee']=train.apply(lambda g:jaccard_distance_followee(g['source_node'],g['destination_node']),axis=1)"
      ],
      "metadata": {
        "id": "zRwZuMbL-OY2"
      },
      "execution_count": null,
      "outputs": []
    },
    {
      "cell_type": "code",
      "source": [
        "test['jaccard_followee']=test.apply(lambda g:jaccard_distance_followee(g['source_node'],g['destination_node']),axis=1)"
      ],
      "metadata": {
        "id": "gujamJJPe8Al"
      },
      "execution_count": null,
      "outputs": []
    },
    {
      "cell_type": "code",
      "source": [
        "train['jaccard_followers']=train.apply(lambda g:jaccard_distance_followers(g['source_node'],g['destination_node']),axis=1)\n",
        "test['jaccard_followers']=test.apply(lambda g:jaccard_distance_followers(g['source_node'],g['destination_node']),axis=1)"
      ],
      "metadata": {
        "id": "Y1ptJSHhgf19"
      },
      "execution_count": null,
      "outputs": []
    },
    {
      "cell_type": "code",
      "source": [
        "train.head()\n"
      ],
      "metadata": {
        "colab": {
          "base_uri": "https://localhost:8080/",
          "height": 270
        },
        "id": "vEhhFWyljJWI",
        "outputId": "ebd593b2-7c48-429c-d81f-2faa65ff5abf"
      },
      "execution_count": null,
      "outputs": [
        {
          "output_type": "execute_result",
          "data": {
            "text/plain": [
              "   source_node  destination_node  link  num_followers_s  num_followers_d  \\\n",
              "0     739939.0         1029952.0   1.0                0                0   \n",
              "1    1463342.0          418049.0   0.0                0                0   \n",
              "2     971987.0          887112.0   1.0                0                0   \n",
              "3     906632.0          917129.0   0.0                0                0   \n",
              "4     789066.0         1772109.0   1.0                0                0   \n",
              "\n",
              "   num_followees_s  num_followees_d  inter_followers  inter_followees  \\\n",
              "0                0                0              0.0              0.0   \n",
              "1                0                0              0.0              0.0   \n",
              "2                0                0              0.0              0.0   \n",
              "3                0                0              0.0              0.0   \n",
              "4                0                0              0.0              0.0   \n",
              "\n",
              "   jaccard_followee  jaccard_followers  \n",
              "0               0.0                0.0  \n",
              "1               0.0                0.0  \n",
              "2               0.0                0.0  \n",
              "3               0.0                0.0  \n",
              "4               0.0                0.0  "
            ],
            "text/html": [
              "\n",
              "  <div id=\"df-30326d9b-b0f3-4496-b5e5-b4ffb82f18bd\">\n",
              "    <div class=\"colab-df-container\">\n",
              "      <div>\n",
              "<style scoped>\n",
              "    .dataframe tbody tr th:only-of-type {\n",
              "        vertical-align: middle;\n",
              "    }\n",
              "\n",
              "    .dataframe tbody tr th {\n",
              "        vertical-align: top;\n",
              "    }\n",
              "\n",
              "    .dataframe thead th {\n",
              "        text-align: right;\n",
              "    }\n",
              "</style>\n",
              "<table border=\"1\" class=\"dataframe\">\n",
              "  <thead>\n",
              "    <tr style=\"text-align: right;\">\n",
              "      <th></th>\n",
              "      <th>source_node</th>\n",
              "      <th>destination_node</th>\n",
              "      <th>link</th>\n",
              "      <th>num_followers_s</th>\n",
              "      <th>num_followers_d</th>\n",
              "      <th>num_followees_s</th>\n",
              "      <th>num_followees_d</th>\n",
              "      <th>inter_followers</th>\n",
              "      <th>inter_followees</th>\n",
              "      <th>jaccard_followee</th>\n",
              "      <th>jaccard_followers</th>\n",
              "    </tr>\n",
              "  </thead>\n",
              "  <tbody>\n",
              "    <tr>\n",
              "      <th>0</th>\n",
              "      <td>739939.0</td>\n",
              "      <td>1029952.0</td>\n",
              "      <td>1.0</td>\n",
              "      <td>0</td>\n",
              "      <td>0</td>\n",
              "      <td>0</td>\n",
              "      <td>0</td>\n",
              "      <td>0.0</td>\n",
              "      <td>0.0</td>\n",
              "      <td>0.0</td>\n",
              "      <td>0.0</td>\n",
              "    </tr>\n",
              "    <tr>\n",
              "      <th>1</th>\n",
              "      <td>1463342.0</td>\n",
              "      <td>418049.0</td>\n",
              "      <td>0.0</td>\n",
              "      <td>0</td>\n",
              "      <td>0</td>\n",
              "      <td>0</td>\n",
              "      <td>0</td>\n",
              "      <td>0.0</td>\n",
              "      <td>0.0</td>\n",
              "      <td>0.0</td>\n",
              "      <td>0.0</td>\n",
              "    </tr>\n",
              "    <tr>\n",
              "      <th>2</th>\n",
              "      <td>971987.0</td>\n",
              "      <td>887112.0</td>\n",
              "      <td>1.0</td>\n",
              "      <td>0</td>\n",
              "      <td>0</td>\n",
              "      <td>0</td>\n",
              "      <td>0</td>\n",
              "      <td>0.0</td>\n",
              "      <td>0.0</td>\n",
              "      <td>0.0</td>\n",
              "      <td>0.0</td>\n",
              "    </tr>\n",
              "    <tr>\n",
              "      <th>3</th>\n",
              "      <td>906632.0</td>\n",
              "      <td>917129.0</td>\n",
              "      <td>0.0</td>\n",
              "      <td>0</td>\n",
              "      <td>0</td>\n",
              "      <td>0</td>\n",
              "      <td>0</td>\n",
              "      <td>0.0</td>\n",
              "      <td>0.0</td>\n",
              "      <td>0.0</td>\n",
              "      <td>0.0</td>\n",
              "    </tr>\n",
              "    <tr>\n",
              "      <th>4</th>\n",
              "      <td>789066.0</td>\n",
              "      <td>1772109.0</td>\n",
              "      <td>1.0</td>\n",
              "      <td>0</td>\n",
              "      <td>0</td>\n",
              "      <td>0</td>\n",
              "      <td>0</td>\n",
              "      <td>0.0</td>\n",
              "      <td>0.0</td>\n",
              "      <td>0.0</td>\n",
              "      <td>0.0</td>\n",
              "    </tr>\n",
              "  </tbody>\n",
              "</table>\n",
              "</div>\n",
              "      <button class=\"colab-df-convert\" onclick=\"convertToInteractive('df-30326d9b-b0f3-4496-b5e5-b4ffb82f18bd')\"\n",
              "              title=\"Convert this dataframe to an interactive table.\"\n",
              "              style=\"display:none;\">\n",
              "        \n",
              "  <svg xmlns=\"http://www.w3.org/2000/svg\" height=\"24px\"viewBox=\"0 0 24 24\"\n",
              "       width=\"24px\">\n",
              "    <path d=\"M0 0h24v24H0V0z\" fill=\"none\"/>\n",
              "    <path d=\"M18.56 5.44l.94 2.06.94-2.06 2.06-.94-2.06-.94-.94-2.06-.94 2.06-2.06.94zm-11 1L8.5 8.5l.94-2.06 2.06-.94-2.06-.94L8.5 2.5l-.94 2.06-2.06.94zm10 10l.94 2.06.94-2.06 2.06-.94-2.06-.94-.94-2.06-.94 2.06-2.06.94z\"/><path d=\"M17.41 7.96l-1.37-1.37c-.4-.4-.92-.59-1.43-.59-.52 0-1.04.2-1.43.59L10.3 9.45l-7.72 7.72c-.78.78-.78 2.05 0 2.83L4 21.41c.39.39.9.59 1.41.59.51 0 1.02-.2 1.41-.59l7.78-7.78 2.81-2.81c.8-.78.8-2.07 0-2.86zM5.41 20L4 18.59l7.72-7.72 1.47 1.35L5.41 20z\"/>\n",
              "  </svg>\n",
              "      </button>\n",
              "      \n",
              "  <style>\n",
              "    .colab-df-container {\n",
              "      display:flex;\n",
              "      flex-wrap:wrap;\n",
              "      gap: 12px;\n",
              "    }\n",
              "\n",
              "    .colab-df-convert {\n",
              "      background-color: #E8F0FE;\n",
              "      border: none;\n",
              "      border-radius: 50%;\n",
              "      cursor: pointer;\n",
              "      display: none;\n",
              "      fill: #1967D2;\n",
              "      height: 32px;\n",
              "      padding: 0 0 0 0;\n",
              "      width: 32px;\n",
              "    }\n",
              "\n",
              "    .colab-df-convert:hover {\n",
              "      background-color: #E2EBFA;\n",
              "      box-shadow: 0px 1px 2px rgba(60, 64, 67, 0.3), 0px 1px 3px 1px rgba(60, 64, 67, 0.15);\n",
              "      fill: #174EA6;\n",
              "    }\n",
              "\n",
              "    [theme=dark] .colab-df-convert {\n",
              "      background-color: #3B4455;\n",
              "      fill: #D2E3FC;\n",
              "    }\n",
              "\n",
              "    [theme=dark] .colab-df-convert:hover {\n",
              "      background-color: #434B5C;\n",
              "      box-shadow: 0px 1px 3px 1px rgba(0, 0, 0, 0.15);\n",
              "      filter: drop-shadow(0px 1px 2px rgba(0, 0, 0, 0.3));\n",
              "      fill: #FFFFFF;\n",
              "    }\n",
              "  </style>\n",
              "\n",
              "      <script>\n",
              "        const buttonEl =\n",
              "          document.querySelector('#df-30326d9b-b0f3-4496-b5e5-b4ffb82f18bd button.colab-df-convert');\n",
              "        buttonEl.style.display =\n",
              "          google.colab.kernel.accessAllowed ? 'block' : 'none';\n",
              "\n",
              "        async function convertToInteractive(key) {\n",
              "          const element = document.querySelector('#df-30326d9b-b0f3-4496-b5e5-b4ffb82f18bd');\n",
              "          const dataTable =\n",
              "            await google.colab.kernel.invokeFunction('convertToInteractive',\n",
              "                                                     [key], {});\n",
              "          if (!dataTable) return;\n",
              "\n",
              "          const docLinkHtml = 'Like what you see? Visit the ' +\n",
              "            '<a target=\"_blank\" href=https://colab.research.google.com/notebooks/data_table.ipynb>data table notebook</a>'\n",
              "            + ' to learn more about interactive tables.';\n",
              "          element.innerHTML = '';\n",
              "          dataTable['output_type'] = 'display_data';\n",
              "          await google.colab.output.renderOutput(dataTable, element);\n",
              "          const docLink = document.createElement('div');\n",
              "          docLink.innerHTML = docLinkHtml;\n",
              "          element.appendChild(docLink);\n",
              "        }\n",
              "      </script>\n",
              "    </div>\n",
              "  </div>\n",
              "  "
            ]
          },
          "metadata": {},
          "execution_count": 33
        }
      ]
    },
    {
      "cell_type": "code",
      "source": [
        "#calculate cosine distance for both followee and followees\n",
        "def cosine_for_followees(a,b):\n",
        "    try:\n",
        "        if len(set(g.successors(a))) == 0  | len(set(g.successors(b))) == 0:\n",
        "            return 0\n",
        "        sim = (len(set(g.successors(a)).intersection(set(g.successors(b)))))/\\\n",
        "                                    (math.sqrt(len(set(g.successors(a)))*len((set(g.successors(b))))))\n",
        "        return sim\n",
        "    except:\n",
        "        return 0\n",
        "\n",
        "\n",
        "def cosine_followers(a,b):\n",
        "    try:\n",
        "        \n",
        "        if len(set(g.predecessors(a))) == 0  | len(set(g.predecessors(b))) == 0:\n",
        "            return 0\n",
        "        sim = (len(set(g.predecessors(a)).intersection(set(g.predecessors(b)))))/\\\n",
        "                                     (math.sqrt(len(set(g.predecessors(a))))*(len(set(g.predecessors(b)))))\n",
        "        return sim\n",
        "    except:\n",
        "        return 0        "
      ],
      "metadata": {
        "id": "Lj_HrRZypC_s"
      },
      "execution_count": null,
      "outputs": []
    },
    {
      "cell_type": "code",
      "source": [
        "train['cosine_followers']=train.apply(lambda g:cosine_followers(g['source_node'],g['destination_node']),axis=1)\n",
        "test['cosine_followers']=test.apply(lambda g:cosine_followers(g['source_node'],g['destination_node']),axis=1)"
      ],
      "metadata": {
        "id": "uz7sgxRvpDCn"
      },
      "execution_count": null,
      "outputs": []
    },
    {
      "cell_type": "code",
      "source": [
        "train['cosine_followees']=train.apply(lambda g:cosine_for_followees(g['source_node'],g['destination_node']),axis=1)\n",
        "test['cosine_followees']=test.apply(lambda g:cosine_for_followees(g['source_node'],g['destination_node']),axis=1)"
      ],
      "metadata": {
        "id": "Gb7OGced-GKg"
      },
      "execution_count": null,
      "outputs": []
    },
    {
      "cell_type": "code",
      "source": [
        "#calculate shortest path for every pair of nodes\n",
        "def shortest_path(a,b):\n",
        "  p=-1\n",
        "  try:\n",
        "    p= nx.shortest_path_length(g,source=a,target=b)\n",
        "    return p\n",
        "  except:\n",
        "    return -1\n"
      ],
      "metadata": {
        "id": "Q6WCRrmPpDFZ"
      },
      "execution_count": null,
      "outputs": []
    },
    {
      "cell_type": "code",
      "source": [
        "train['shortest_path']=train.apply(lambda g:cosine_followers(g['source_node'],g['destination_node']),axis=1)\n",
        "test['shortest_path']=test.apply(lambda g:cosine_followers(g['source_node'],g['destination_node']),axis=1)"
      ],
      "metadata": {
        "id": "aZ46w_vq-HZ-"
      },
      "execution_count": null,
      "outputs": []
    },
    {
      "cell_type": "code",
      "source": [
        "#calculate adar index\n",
        "def adar_index(a,b):\n",
        "  sum=0\n",
        "  try:\n",
        "    nodes=list(set(g.all_neighbors(a)).intersection(set(g.all_neighbors(b))))\n",
        "    if len(nodes)!=0:\n",
        "       for i in nodes:\n",
        "         sum=sum+(1/np.log10(len(list(g.predecessors(i)))))\n",
        "       return sum\n",
        "    else:\n",
        "      return 0 \n",
        "  except:\n",
        "    return 0  \n",
        "def follows_back(a,b):\n",
        "  if g.has_edge(b,a):\n",
        "        return 1\n",
        "  else:\n",
        "        return 0    \n",
        "\n",
        "\n"
      ],
      "metadata": {
        "id": "IuXxxlTGDLgx"
      },
      "execution_count": null,
      "outputs": []
    },
    {
      "cell_type": "code",
      "source": [
        "train['adar_index']=train.apply(lambda g:adar_index(g['source_node'],g['destination_node']),axis=1)\n",
        "test['adar_index']=test.apply(lambda g:adar_index(g['source_node'],g['destination_node']),axis=1)"
      ],
      "metadata": {
        "id": "iV5KV6WpffA6"
      },
      "execution_count": null,
      "outputs": []
    },
    {
      "cell_type": "code",
      "source": [
        "#saving the features\n",
        "train.to_csv('train_features.csv',index=False)\n",
        "test.to_csv('test_features.csv',index=False)"
      ],
      "metadata": {
        "id": "w65P3JOayJCT"
      },
      "execution_count": null,
      "outputs": []
    },
    {
      "cell_type": "code",
      "source": [
        "#reading from the stored csv files using pandas\n",
        "train=pd.read_csv(\"/content/drive/MyDrive/train_features.csv\")\n",
        "test=pd.read_csv(\"/content/drive/MyDrive/test_features.csv\")"
      ],
      "metadata": {
        "id": "ONk4DAc1yJIS"
      },
      "execution_count": null,
      "outputs": []
    },
    {
      "cell_type": "code",
      "source": [
        "#Features computed\n",
        "train.columns"
      ],
      "metadata": {
        "colab": {
          "base_uri": "https://localhost:8080/"
        },
        "id": "mObMkTGNJZTA",
        "outputId": "18754efe-b484-498c-ac9e-541a0bff47e7"
      },
      "execution_count": null,
      "outputs": [
        {
          "output_type": "execute_result",
          "data": {
            "text/plain": [
              "Index(['source_node', 'destination_node', 'link', 'num_followers_s',\n",
              "       'num_followers_d', 'num_followees_s', 'num_followees_d',\n",
              "       'inter_followers', 'inter_followees', 'jaccard_followee',\n",
              "       'jaccard_followers', 'cosine_followers', 'shortest_path',\n",
              "       'cosine_followees', 'adar_index'],\n",
              "      dtype='object')"
            ]
          },
          "metadata": {},
          "execution_count": 9
        }
      ]
    },
    {
      "cell_type": "code",
      "source": [
        "#page_rank\n",
        "page_rank=nx.pagerank(g)\n"
      ],
      "metadata": {
        "id": "FuE3RCNYFtzV"
      },
      "execution_count": null,
      "outputs": []
    },
    {
      "cell_type": "code",
      "source": [
        "mean_page_rank=float(sum(page_rank.values())) /len(page_rank)"
      ],
      "metadata": {
        "id": "7kqgz8fxImgm"
      },
      "execution_count": null,
      "outputs": []
    },
    {
      "cell_type": "code",
      "source": [
        "#compute page rank for every  source node and destination node\n",
        "train['page_rank_s'] =train.source_node.apply(lambda x:page_rank.get(x,mean_page_rank))\n",
        "train['page_rank_d'] =train.destination_node.apply(lambda x:page_rank.get(x,mean_page_rank))\n",
        "\n"
      ],
      "metadata": {
        "id": "InWR1IK4Ft2X"
      },
      "execution_count": null,
      "outputs": []
    },
    {
      "cell_type": "code",
      "source": [
        "test['page_rank_s']=test.source_node.apply(lambda x:page_rank.get(x,mean_page_rank))\n",
        "test['page_rank_d']=test.destination_node.apply(lambda x:page_rank.get(x,mean_page_rank))"
      ],
      "metadata": {
        "id": "Xzl-xc4ZFt5P"
      },
      "execution_count": null,
      "outputs": []
    },
    {
      "cell_type": "code",
      "source": [
        "katz = nx.katz.katz_centrality(g,alpha=0.005,beta=1)"
      ],
      "metadata": {
        "id": "bmugSWeEFt8X"
      },
      "execution_count": null,
      "outputs": []
    },
    {
      "cell_type": "code",
      "source": [
        "mean_katz = float(sum(katz.values())) / len(katz)"
      ],
      "metadata": {
        "id": "dAqvbUFTFt_m"
      },
      "execution_count": null,
      "outputs": []
    },
    {
      "cell_type": "code",
      "source": [
        "#calculating katz centrality score for all source and destination node\n",
        "train['katz_s'] = train.source_node.apply(lambda x: katz.get(x,mean_katz))\n",
        "train['katz_d'] = train.destination_node.apply(lambda x: katz.get(x,mean_katz))"
      ],
      "metadata": {
        "id": "7gs4x2mMFuCe"
      },
      "execution_count": null,
      "outputs": []
    },
    {
      "cell_type": "code",
      "source": [
        "test['katz_s'] = test.source_node.apply(lambda x: katz.get(x,mean_katz))\n",
        "test['katz_d'] = test.destination_node.apply(lambda x: katz.get(x,mean_katz))"
      ],
      "metadata": {
        "id": "ERIUMOQjTTWS"
      },
      "execution_count": null,
      "outputs": []
    },
    {
      "cell_type": "code",
      "source": [
        "hubs_auth = nx.hits(g , nstart=None, normalized=True)"
      ],
      "metadata": {
        "id": "L9hzjNq7TTZs"
      },
      "execution_count": null,
      "outputs": []
    },
    {
      "cell_type": "code",
      "source": [
        "#calculating hubs-score of every node\n",
        "train['hubs_s']=train.source_node.apply(lambda x: hubs_auth[0].get(x,0))\n",
        "train['hubs_d']=train.destination_node.apply(lambda x: hubs_auth[0].get(x,0))\n",
        "test['hubs_s'] =test.source_node.apply(lambda x: hubs_auth[0].get(x,0))\n",
        "test['hubs_d']=test.destination_node.apply(lambda x: hubs_auth[0].get(x,0))"
      ],
      "metadata": {
        "id": "KzBmnEeuYcu-"
      },
      "execution_count": null,
      "outputs": []
    },
    {
      "cell_type": "code",
      "source": [
        "#saving the data\n",
        "train.to_csv('train_features.csv',index=False)\n",
        "test.to_csv('test_features.csv',index=False)"
      ],
      "metadata": {
        "id": "a-HlnFvCZmL1",
        "colab": {
          "base_uri": "https://localhost:8080/",
          "height": 345
        },
        "outputId": "fb67e5a7-72be-4923-b526-3622e1113c72"
      },
      "execution_count": null,
      "outputs": [
        {
          "output_type": "error",
          "ename": "KeyboardInterrupt",
          "evalue": "ignored",
          "traceback": [
            "\u001b[0;31m---------------------------------------------------------------------------\u001b[0m",
            "\u001b[0;31mKeyboardInterrupt\u001b[0m                         Traceback (most recent call last)",
            "\u001b[0;32m<ipython-input-24-bbf10eb1d654>\u001b[0m in \u001b[0;36m<module>\u001b[0;34m()\u001b[0m\n\u001b[0;32m----> 1\u001b[0;31m \u001b[0mtrain\u001b[0m\u001b[0;34m.\u001b[0m\u001b[0mto_csv\u001b[0m\u001b[0;34m(\u001b[0m\u001b[0;34m'train_features.csv'\u001b[0m\u001b[0;34m,\u001b[0m\u001b[0mindex\u001b[0m\u001b[0;34m=\u001b[0m\u001b[0;32mFalse\u001b[0m\u001b[0;34m)\u001b[0m\u001b[0;34m\u001b[0m\u001b[0;34m\u001b[0m\u001b[0m\n\u001b[0m\u001b[1;32m      2\u001b[0m \u001b[0mtest\u001b[0m\u001b[0;34m.\u001b[0m\u001b[0mto_csv\u001b[0m\u001b[0;34m(\u001b[0m\u001b[0;34m'test_features.csv'\u001b[0m\u001b[0;34m,\u001b[0m\u001b[0mindex\u001b[0m\u001b[0;34m=\u001b[0m\u001b[0;32mFalse\u001b[0m\u001b[0;34m)\u001b[0m\u001b[0;34m\u001b[0m\u001b[0;34m\u001b[0m\u001b[0m\n",
            "\u001b[0;32m/usr/local/lib/python3.7/dist-packages/pandas/core/generic.py\u001b[0m in \u001b[0;36mto_csv\u001b[0;34m(self, path_or_buf, sep, na_rep, float_format, columns, header, index, index_label, mode, encoding, compression, quoting, quotechar, line_terminator, chunksize, date_format, doublequote, escapechar, decimal, errors, storage_options)\u001b[0m\n\u001b[1;32m   3480\u001b[0m             \u001b[0mdoublequote\u001b[0m\u001b[0;34m=\u001b[0m\u001b[0mdoublequote\u001b[0m\u001b[0;34m,\u001b[0m\u001b[0;34m\u001b[0m\u001b[0;34m\u001b[0m\u001b[0m\n\u001b[1;32m   3481\u001b[0m             \u001b[0mescapechar\u001b[0m\u001b[0;34m=\u001b[0m\u001b[0mescapechar\u001b[0m\u001b[0;34m,\u001b[0m\u001b[0;34m\u001b[0m\u001b[0;34m\u001b[0m\u001b[0m\n\u001b[0;32m-> 3482\u001b[0;31m             \u001b[0mstorage_options\u001b[0m\u001b[0;34m=\u001b[0m\u001b[0mstorage_options\u001b[0m\u001b[0;34m,\u001b[0m\u001b[0;34m\u001b[0m\u001b[0;34m\u001b[0m\u001b[0m\n\u001b[0m\u001b[1;32m   3483\u001b[0m         )\n\u001b[1;32m   3484\u001b[0m \u001b[0;34m\u001b[0m\u001b[0m\n",
            "\u001b[0;32m/usr/local/lib/python3.7/dist-packages/pandas/io/formats/format.py\u001b[0m in \u001b[0;36mto_csv\u001b[0;34m(self, path_or_buf, encoding, sep, columns, index_label, mode, compression, quoting, quotechar, line_terminator, chunksize, date_format, doublequote, escapechar, errors, storage_options)\u001b[0m\n\u001b[1;32m   1103\u001b[0m             \u001b[0mformatter\u001b[0m\u001b[0;34m=\u001b[0m\u001b[0mself\u001b[0m\u001b[0;34m.\u001b[0m\u001b[0mfmt\u001b[0m\u001b[0;34m,\u001b[0m\u001b[0;34m\u001b[0m\u001b[0;34m\u001b[0m\u001b[0m\n\u001b[1;32m   1104\u001b[0m         )\n\u001b[0;32m-> 1105\u001b[0;31m         \u001b[0mcsv_formatter\u001b[0m\u001b[0;34m.\u001b[0m\u001b[0msave\u001b[0m\u001b[0;34m(\u001b[0m\u001b[0;34m)\u001b[0m\u001b[0;34m\u001b[0m\u001b[0;34m\u001b[0m\u001b[0m\n\u001b[0m\u001b[1;32m   1106\u001b[0m \u001b[0;34m\u001b[0m\u001b[0m\n\u001b[1;32m   1107\u001b[0m         \u001b[0;32mif\u001b[0m \u001b[0mcreated_buffer\u001b[0m\u001b[0;34m:\u001b[0m\u001b[0;34m\u001b[0m\u001b[0;34m\u001b[0m\u001b[0m\n",
            "\u001b[0;32m/usr/local/lib/python3.7/dist-packages/pandas/io/formats/csvs.py\u001b[0m in \u001b[0;36msave\u001b[0;34m(self)\u001b[0m\n\u001b[1;32m    255\u001b[0m             )\n\u001b[1;32m    256\u001b[0m \u001b[0;34m\u001b[0m\u001b[0m\n\u001b[0;32m--> 257\u001b[0;31m             \u001b[0mself\u001b[0m\u001b[0;34m.\u001b[0m\u001b[0m_save\u001b[0m\u001b[0;34m(\u001b[0m\u001b[0;34m)\u001b[0m\u001b[0;34m\u001b[0m\u001b[0;34m\u001b[0m\u001b[0m\n\u001b[0m\u001b[1;32m    258\u001b[0m \u001b[0;34m\u001b[0m\u001b[0m\n\u001b[1;32m    259\u001b[0m     \u001b[0;32mdef\u001b[0m \u001b[0m_save\u001b[0m\u001b[0;34m(\u001b[0m\u001b[0mself\u001b[0m\u001b[0;34m)\u001b[0m \u001b[0;34m->\u001b[0m \u001b[0;32mNone\u001b[0m\u001b[0;34m:\u001b[0m\u001b[0;34m\u001b[0m\u001b[0;34m\u001b[0m\u001b[0m\n",
            "\u001b[0;32m/usr/local/lib/python3.7/dist-packages/pandas/io/formats/csvs.py\u001b[0m in \u001b[0;36m_save\u001b[0;34m(self)\u001b[0m\n\u001b[1;32m    260\u001b[0m         \u001b[0;32mif\u001b[0m \u001b[0mself\u001b[0m\u001b[0;34m.\u001b[0m\u001b[0m_need_to_save_header\u001b[0m\u001b[0;34m:\u001b[0m\u001b[0;34m\u001b[0m\u001b[0;34m\u001b[0m\u001b[0m\n\u001b[1;32m    261\u001b[0m             \u001b[0mself\u001b[0m\u001b[0;34m.\u001b[0m\u001b[0m_save_header\u001b[0m\u001b[0;34m(\u001b[0m\u001b[0;34m)\u001b[0m\u001b[0;34m\u001b[0m\u001b[0;34m\u001b[0m\u001b[0m\n\u001b[0;32m--> 262\u001b[0;31m         \u001b[0mself\u001b[0m\u001b[0;34m.\u001b[0m\u001b[0m_save_body\u001b[0m\u001b[0;34m(\u001b[0m\u001b[0;34m)\u001b[0m\u001b[0;34m\u001b[0m\u001b[0;34m\u001b[0m\u001b[0m\n\u001b[0m\u001b[1;32m    263\u001b[0m \u001b[0;34m\u001b[0m\u001b[0m\n\u001b[1;32m    264\u001b[0m     \u001b[0;32mdef\u001b[0m \u001b[0m_save_header\u001b[0m\u001b[0;34m(\u001b[0m\u001b[0mself\u001b[0m\u001b[0;34m)\u001b[0m \u001b[0;34m->\u001b[0m \u001b[0;32mNone\u001b[0m\u001b[0;34m:\u001b[0m\u001b[0;34m\u001b[0m\u001b[0;34m\u001b[0m\u001b[0m\n",
            "\u001b[0;32m/usr/local/lib/python3.7/dist-packages/pandas/io/formats/csvs.py\u001b[0m in \u001b[0;36m_save_body\u001b[0;34m(self)\u001b[0m\n\u001b[1;32m    298\u001b[0m             \u001b[0;32mif\u001b[0m \u001b[0mstart_i\u001b[0m \u001b[0;34m>=\u001b[0m \u001b[0mend_i\u001b[0m\u001b[0;34m:\u001b[0m\u001b[0;34m\u001b[0m\u001b[0;34m\u001b[0m\u001b[0m\n\u001b[1;32m    299\u001b[0m                 \u001b[0;32mbreak\u001b[0m\u001b[0;34m\u001b[0m\u001b[0;34m\u001b[0m\u001b[0m\n\u001b[0;32m--> 300\u001b[0;31m             \u001b[0mself\u001b[0m\u001b[0;34m.\u001b[0m\u001b[0m_save_chunk\u001b[0m\u001b[0;34m(\u001b[0m\u001b[0mstart_i\u001b[0m\u001b[0;34m,\u001b[0m \u001b[0mend_i\u001b[0m\u001b[0;34m)\u001b[0m\u001b[0;34m\u001b[0m\u001b[0;34m\u001b[0m\u001b[0m\n\u001b[0m\u001b[1;32m    301\u001b[0m \u001b[0;34m\u001b[0m\u001b[0m\n\u001b[1;32m    302\u001b[0m     \u001b[0;32mdef\u001b[0m \u001b[0m_save_chunk\u001b[0m\u001b[0;34m(\u001b[0m\u001b[0mself\u001b[0m\u001b[0;34m,\u001b[0m \u001b[0mstart_i\u001b[0m\u001b[0;34m:\u001b[0m \u001b[0mint\u001b[0m\u001b[0;34m,\u001b[0m \u001b[0mend_i\u001b[0m\u001b[0;34m:\u001b[0m \u001b[0mint\u001b[0m\u001b[0;34m)\u001b[0m \u001b[0;34m->\u001b[0m \u001b[0;32mNone\u001b[0m\u001b[0;34m:\u001b[0m\u001b[0;34m\u001b[0m\u001b[0;34m\u001b[0m\u001b[0m\n",
            "\u001b[0;32m/usr/local/lib/python3.7/dist-packages/pandas/io/formats/csvs.py\u001b[0m in \u001b[0;36m_save_chunk\u001b[0;34m(self, start_i, end_i)\u001b[0m\n\u001b[1;32m    305\u001b[0m         \u001b[0mdf\u001b[0m \u001b[0;34m=\u001b[0m \u001b[0mself\u001b[0m\u001b[0;34m.\u001b[0m\u001b[0mobj\u001b[0m\u001b[0;34m.\u001b[0m\u001b[0miloc\u001b[0m\u001b[0;34m[\u001b[0m\u001b[0mslicer\u001b[0m\u001b[0;34m]\u001b[0m\u001b[0;34m\u001b[0m\u001b[0;34m\u001b[0m\u001b[0m\n\u001b[1;32m    306\u001b[0m \u001b[0;34m\u001b[0m\u001b[0m\n\u001b[0;32m--> 307\u001b[0;31m         \u001b[0mres\u001b[0m \u001b[0;34m=\u001b[0m \u001b[0mdf\u001b[0m\u001b[0;34m.\u001b[0m\u001b[0m_mgr\u001b[0m\u001b[0;34m.\u001b[0m\u001b[0mto_native_types\u001b[0m\u001b[0;34m(\u001b[0m\u001b[0;34m**\u001b[0m\u001b[0mself\u001b[0m\u001b[0;34m.\u001b[0m\u001b[0m_number_format\u001b[0m\u001b[0;34m)\u001b[0m\u001b[0;34m\u001b[0m\u001b[0;34m\u001b[0m\u001b[0m\n\u001b[0m\u001b[1;32m    308\u001b[0m         \u001b[0mdata\u001b[0m \u001b[0;34m=\u001b[0m \u001b[0;34m[\u001b[0m\u001b[0mres\u001b[0m\u001b[0;34m.\u001b[0m\u001b[0miget_values\u001b[0m\u001b[0;34m(\u001b[0m\u001b[0mi\u001b[0m\u001b[0;34m)\u001b[0m \u001b[0;32mfor\u001b[0m \u001b[0mi\u001b[0m \u001b[0;32min\u001b[0m \u001b[0mrange\u001b[0m\u001b[0;34m(\u001b[0m\u001b[0mlen\u001b[0m\u001b[0;34m(\u001b[0m\u001b[0mres\u001b[0m\u001b[0;34m.\u001b[0m\u001b[0mitems\u001b[0m\u001b[0;34m)\u001b[0m\u001b[0;34m)\u001b[0m\u001b[0;34m]\u001b[0m\u001b[0;34m\u001b[0m\u001b[0;34m\u001b[0m\u001b[0m\n\u001b[1;32m    309\u001b[0m \u001b[0;34m\u001b[0m\u001b[0m\n",
            "\u001b[0;32m/usr/local/lib/python3.7/dist-packages/pandas/core/internals/managers.py\u001b[0m in \u001b[0;36mto_native_types\u001b[0;34m(self, **kwargs)\u001b[0m\n\u001b[1;32m    464\u001b[0m         \u001b[0;32min\u001b[0m \u001b[0mformatting\u001b[0m \u001b[0;34m(\u001b[0m\u001b[0mrepr\u001b[0m \u001b[0;34m/\u001b[0m \u001b[0mcsv\u001b[0m\u001b[0;34m)\u001b[0m\u001b[0;34m.\u001b[0m\u001b[0;34m\u001b[0m\u001b[0;34m\u001b[0m\u001b[0m\n\u001b[1;32m    465\u001b[0m         \"\"\"\n\u001b[0;32m--> 466\u001b[0;31m         \u001b[0;32mreturn\u001b[0m \u001b[0mself\u001b[0m\u001b[0;34m.\u001b[0m\u001b[0mapply\u001b[0m\u001b[0;34m(\u001b[0m\u001b[0;34m\"to_native_types\"\u001b[0m\u001b[0;34m,\u001b[0m \u001b[0;34m**\u001b[0m\u001b[0mkwargs\u001b[0m\u001b[0;34m)\u001b[0m\u001b[0;34m\u001b[0m\u001b[0;34m\u001b[0m\u001b[0m\n\u001b[0m\u001b[1;32m    467\u001b[0m \u001b[0;34m\u001b[0m\u001b[0m\n\u001b[1;32m    468\u001b[0m     \u001b[0;32mdef\u001b[0m \u001b[0mis_consolidated\u001b[0m\u001b[0;34m(\u001b[0m\u001b[0mself\u001b[0m\u001b[0;34m)\u001b[0m \u001b[0;34m->\u001b[0m \u001b[0mbool\u001b[0m\u001b[0;34m:\u001b[0m\u001b[0;34m\u001b[0m\u001b[0;34m\u001b[0m\u001b[0m\n",
            "\u001b[0;32m/usr/local/lib/python3.7/dist-packages/pandas/core/internals/managers.py\u001b[0m in \u001b[0;36mapply\u001b[0;34m(self, f, align_keys, ignore_failures, **kwargs)\u001b[0m\n\u001b[1;32m    325\u001b[0m                     \u001b[0mapplied\u001b[0m \u001b[0;34m=\u001b[0m \u001b[0mb\u001b[0m\u001b[0;34m.\u001b[0m\u001b[0mapply\u001b[0m\u001b[0;34m(\u001b[0m\u001b[0mf\u001b[0m\u001b[0;34m,\u001b[0m \u001b[0;34m**\u001b[0m\u001b[0mkwargs\u001b[0m\u001b[0;34m)\u001b[0m\u001b[0;34m\u001b[0m\u001b[0;34m\u001b[0m\u001b[0m\n\u001b[1;32m    326\u001b[0m                 \u001b[0;32melse\u001b[0m\u001b[0;34m:\u001b[0m\u001b[0;34m\u001b[0m\u001b[0;34m\u001b[0m\u001b[0m\n\u001b[0;32m--> 327\u001b[0;31m                     \u001b[0mapplied\u001b[0m \u001b[0;34m=\u001b[0m \u001b[0mgetattr\u001b[0m\u001b[0;34m(\u001b[0m\u001b[0mb\u001b[0m\u001b[0;34m,\u001b[0m \u001b[0mf\u001b[0m\u001b[0;34m)\u001b[0m\u001b[0;34m(\u001b[0m\u001b[0;34m**\u001b[0m\u001b[0mkwargs\u001b[0m\u001b[0;34m)\u001b[0m\u001b[0;34m\u001b[0m\u001b[0;34m\u001b[0m\u001b[0m\n\u001b[0m\u001b[1;32m    328\u001b[0m             \u001b[0;32mexcept\u001b[0m \u001b[0;34m(\u001b[0m\u001b[0mTypeError\u001b[0m\u001b[0;34m,\u001b[0m \u001b[0mNotImplementedError\u001b[0m\u001b[0;34m)\u001b[0m\u001b[0;34m:\u001b[0m\u001b[0;34m\u001b[0m\u001b[0;34m\u001b[0m\u001b[0m\n\u001b[1;32m    329\u001b[0m                 \u001b[0;32mif\u001b[0m \u001b[0;32mnot\u001b[0m \u001b[0mignore_failures\u001b[0m\u001b[0;34m:\u001b[0m\u001b[0;34m\u001b[0m\u001b[0;34m\u001b[0m\u001b[0m\n",
            "\u001b[0;32m/usr/local/lib/python3.7/dist-packages/pandas/core/internals/blocks.py\u001b[0m in \u001b[0;36mto_native_types\u001b[0;34m(self, na_rep, quoting, **kwargs)\u001b[0m\n\u001b[1;32m    639\u001b[0m     \u001b[0;32mdef\u001b[0m \u001b[0mto_native_types\u001b[0m\u001b[0;34m(\u001b[0m\u001b[0mself\u001b[0m\u001b[0;34m,\u001b[0m \u001b[0mna_rep\u001b[0m\u001b[0;34m=\u001b[0m\u001b[0;34m\"nan\"\u001b[0m\u001b[0;34m,\u001b[0m \u001b[0mquoting\u001b[0m\u001b[0;34m=\u001b[0m\u001b[0;32mNone\u001b[0m\u001b[0;34m,\u001b[0m \u001b[0;34m**\u001b[0m\u001b[0mkwargs\u001b[0m\u001b[0;34m)\u001b[0m\u001b[0;34m:\u001b[0m\u001b[0;34m\u001b[0m\u001b[0;34m\u001b[0m\u001b[0m\n\u001b[1;32m    640\u001b[0m         \u001b[0;34m\"\"\"convert to our native types format\"\"\"\u001b[0m\u001b[0;34m\u001b[0m\u001b[0;34m\u001b[0m\u001b[0m\n\u001b[0;32m--> 641\u001b[0;31m         \u001b[0mresult\u001b[0m \u001b[0;34m=\u001b[0m \u001b[0mto_native_types\u001b[0m\u001b[0;34m(\u001b[0m\u001b[0mself\u001b[0m\u001b[0;34m.\u001b[0m\u001b[0mvalues\u001b[0m\u001b[0;34m,\u001b[0m \u001b[0mna_rep\u001b[0m\u001b[0;34m=\u001b[0m\u001b[0mna_rep\u001b[0m\u001b[0;34m,\u001b[0m \u001b[0mquoting\u001b[0m\u001b[0;34m=\u001b[0m\u001b[0mquoting\u001b[0m\u001b[0;34m,\u001b[0m \u001b[0;34m**\u001b[0m\u001b[0mkwargs\u001b[0m\u001b[0;34m)\u001b[0m\u001b[0;34m\u001b[0m\u001b[0;34m\u001b[0m\u001b[0m\n\u001b[0m\u001b[1;32m    642\u001b[0m         \u001b[0;32mreturn\u001b[0m \u001b[0mself\u001b[0m\u001b[0;34m.\u001b[0m\u001b[0mmake_block\u001b[0m\u001b[0;34m(\u001b[0m\u001b[0mresult\u001b[0m\u001b[0;34m)\u001b[0m\u001b[0;34m\u001b[0m\u001b[0;34m\u001b[0m\u001b[0m\n\u001b[1;32m    643\u001b[0m \u001b[0;34m\u001b[0m\u001b[0m\n",
            "\u001b[0;32m/usr/local/lib/python3.7/dist-packages/pandas/core/internals/blocks.py\u001b[0m in \u001b[0;36mto_native_types\u001b[0;34m(values, na_rep, quoting, float_format, decimal, **kwargs)\u001b[0m\n\u001b[1;32m   2072\u001b[0m \u001b[0;34m\u001b[0m\u001b[0m\n\u001b[1;32m   2073\u001b[0m             \u001b[0;32mif\u001b[0m \u001b[0;32mnot\u001b[0m \u001b[0mquoting\u001b[0m\u001b[0;34m:\u001b[0m\u001b[0;34m\u001b[0m\u001b[0;34m\u001b[0m\u001b[0m\n\u001b[0;32m-> 2074\u001b[0;31m                 \u001b[0mvalues\u001b[0m \u001b[0;34m=\u001b[0m \u001b[0mvalues\u001b[0m\u001b[0;34m.\u001b[0m\u001b[0mastype\u001b[0m\u001b[0;34m(\u001b[0m\u001b[0mstr\u001b[0m\u001b[0;34m)\u001b[0m\u001b[0;34m\u001b[0m\u001b[0;34m\u001b[0m\u001b[0m\n\u001b[0m\u001b[1;32m   2075\u001b[0m             \u001b[0;32melse\u001b[0m\u001b[0;34m:\u001b[0m\u001b[0;34m\u001b[0m\u001b[0;34m\u001b[0m\u001b[0m\n\u001b[1;32m   2076\u001b[0m                 \u001b[0mvalues\u001b[0m \u001b[0;34m=\u001b[0m \u001b[0mnp\u001b[0m\u001b[0;34m.\u001b[0m\u001b[0marray\u001b[0m\u001b[0;34m(\u001b[0m\u001b[0mvalues\u001b[0m\u001b[0;34m,\u001b[0m \u001b[0mdtype\u001b[0m\u001b[0;34m=\u001b[0m\u001b[0;34m\"object\"\u001b[0m\u001b[0;34m)\u001b[0m\u001b[0;34m\u001b[0m\u001b[0;34m\u001b[0m\u001b[0m\n",
            "\u001b[0;31mKeyboardInterrupt\u001b[0m: "
          ]
        }
      ]
    },
    {
      "cell_type": "code",
      "source": [
        "train=pd.read_csv('train_features.csv')"
      ],
      "metadata": {
        "id": "kWEEn1XfZmPH"
      },
      "execution_count": null,
      "outputs": []
    },
    {
      "cell_type": "code",
      "source": [
        "test=pd.read_csv('test_features.csv')"
      ],
      "metadata": {
        "id": "O3-NB7uXao_p"
      },
      "execution_count": null,
      "outputs": []
    },
    {
      "cell_type": "code",
      "source": [
        "#calculating authorities\n",
        "train['authorities_s']=train.source_node.apply(lambda x: hubs_auth[0].get(x,0))\n",
        "train['authorities_d']=train.destination_node.apply(lambda x: hubs_auth[0].get(x,0))\n",
        "test['authorities_s'] =test.source_node.apply(lambda x: hubs_auth[0].get(x,0))\n",
        "test['authorities_d']=test.destination_node.apply(lambda x: hubs_auth[0].get(x,0))"
      ],
      "metadata": {
        "id": "CXnLLFCmatM9"
      },
      "execution_count": null,
      "outputs": []
    },
    {
      "cell_type": "code",
      "source": [
        "train.to_csv('train_features.csv',index=False)\n",
        "test.to_csv('test_features.csv',index=False)"
      ],
      "metadata": {
        "id": "m36ciuQaciUH"
      },
      "execution_count": null,
      "outputs": []
    },
    {
      "cell_type": "code",
      "source": [
        "#weight for source and destination of each link\n",
        "Weight_in = {}\n",
        "Weight_out = {}\n",
        "for i in  tqdm(g.nodes()):\n",
        "    s1=set(g.predecessors(i))\n",
        "    w_in = 1.0/(np.sqrt(1+len(s1)))\n",
        "    Weight_in[i]=w_in\n",
        "    \n",
        "    s2=set(g.successors(i))\n",
        "    w_out = 1.0/(np.sqrt(1+len(s2)))\n",
        "    Weight_out[i]=w_out\n",
        "    \n",
        "#for imputing with mean\n",
        "mean_weight_in = np.mean(list(Weight_in.values()))\n",
        "mean_weight_out = np.mean(list(Weight_out.values()))"
      ],
      "metadata": {
        "colab": {
          "base_uri": "https://localhost:8080/"
        },
        "id": "epA0X-aAdSI4",
        "outputId": "7b2f15e6-a89c-4cf6-b8bf-09c74ede1014"
      },
      "execution_count": null,
      "outputs": [
        {
          "output_type": "stream",
          "name": "stderr",
          "text": [
            "100%|██████████| 1862220/1862220 [00:16<00:00, 113271.07it/s]\n"
          ]
        }
      ]
    },
    {
      "cell_type": "code",
      "source": [
        "train['weight_in']=train.destination_node.apply(lambda x:Weight_in.get(x,mean_weight_in))\n",
        "train['weight_out'] =train.source_node.apply(lambda x: Weight_out.get(x,mean_weight_out))\n",
        "test['weight_in'] = test.destination_node.apply(lambda x: Weight_in.get(x,mean_weight_in))\n",
        "test['weight_out'] = test.source_node.apply(lambda x: Weight_out.get(x,mean_weight_out))\n",
        "train['weight_total'] =train.weight_in + train.weight_out\n",
        "test['weight_total'] = test.weight_in + test.weight_out\n"
      ],
      "metadata": {
        "id": "fCJIo1xVQJGe"
      },
      "execution_count": null,
      "outputs": []
    },
    {
      "cell_type": "code",
      "source": [
        "#if the person is following back or not\n",
        "def follows_back(a,b):\n",
        "    if g.has_edge(b,a):\n",
        "        return 1\n",
        "    else:\n",
        "        return 0\n",
        "train['follows_back'] =train.apply(lambda row: follows_back(row['source_node'],row['destination_node']),axis=1)\n",
        "test['follows_back'] = test.apply(lambda row: follows_back(row['source_node'],row['destination_node']),axis=1)\n"
      ],
      "metadata": {
        "id": "VztR-MkoRKcD"
      },
      "execution_count": null,
      "outputs": []
    },
    {
      "cell_type": "code",
      "source": [
        "train.to_csv('final_train_features.csv',index=False)\n",
        "test.to_csv('final_test_features.csv',index=False)"
      ],
      "metadata": {
        "id": "teVnskE2RPXu"
      },
      "execution_count": null,
      "outputs": []
    },
    {
      "cell_type": "code",
      "source": [
        "from google.colab import drive\n",
        "drive.mount('/content/gdrive',force_remount=True)"
      ],
      "metadata": {
        "colab": {
          "base_uri": "https://localhost:8080/"
        },
        "id": "QZjfuSTqLXb9",
        "outputId": "f71df7d0-bcb3-4ef7-93e0-7b4e40ae02b0"
      },
      "execution_count": null,
      "outputs": [
        {
          "output_type": "stream",
          "name": "stdout",
          "text": [
            "Mounted at /content/gdrive\n"
          ]
        }
      ]
    },
    {
      "cell_type": "code",
      "source": [
        "#save a file in google-drive\n",
        "!cp final_train_features.csv '/content/gdrive/My Drive/'\n",
        "!cp final_test_features.csv '/content/gdrive/My Drive/'\n",
        " "
      ],
      "metadata": {
        "id": "BYAgLBRdMLKv"
      },
      "execution_count": null,
      "outputs": []
    },
    {
      "cell_type": "code",
      "source": [
        "df_train=pd.read_csv('/content/drive/MyDrive/final_train_features.csv')\n",
        "df_test=pd.read_csv('/content/drive/MyDrive/final_test_features.csv')\n",
        "print(df_train.shape)\n",
        "print(df_test.shape)"
      ],
      "metadata": {
        "id": "OXDFFY8cNn8n",
        "colab": {
          "base_uri": "https://localhost:8080/"
        },
        "outputId": "54631650-e66f-4fcd-d636-23f75bf5f254"
      },
      "execution_count": null,
      "outputs": [
        {
          "output_type": "stream",
          "name": "stdout",
          "text": [
            "(6342012, 27)\n",
            "(1585504, 27)\n"
          ]
        }
      ]
    },
    {
      "cell_type": "code",
      "source": [
        "df_train= df_train[df_train['link'].notna()]\n",
        "df_test=df_test[df_test['link'].notna()]\n",
        "print(df_train.shape)\n",
        "print(df_test.shape)"
      ],
      "metadata": {
        "colab": {
          "base_uri": "https://localhost:8080/"
        },
        "id": "-UiWQcdqO_Zt",
        "outputId": "2d7ad8e4-9629-4fff-e1cd-991c44f5195c"
      },
      "execution_count": null,
      "outputs": [
        {
          "output_type": "stream",
          "name": "stdout",
          "text": [
            "(3171006, 27)\n",
            "(792752, 27)\n"
          ]
        }
      ]
    },
    {
      "cell_type": "code",
      "source": [
        "# we have to reduce the dataset for computation limitations.Even with HPC from the department it ran for more than 2 hours still the ML algorithm didnot converge.We use 515289 pairs of \n",
        "data=pd.concat([df_train,df_test])\n",
        "data=data.sample(frac=0.13)\n",
        "data.shape"
      ],
      "metadata": {
        "colab": {
          "base_uri": "https://localhost:8080/"
        },
        "id": "AoZ4K6JoDqNq",
        "outputId": "cfcdfe9b-ce7d-42d0-c457-2e8151271219"
      },
      "execution_count": null,
      "outputs": [
        {
          "output_type": "execute_result",
          "data": {
            "text/plain": [
              "(515289, 27)"
            ]
          },
          "metadata": {},
          "execution_count": 21
        }
      ]
    },
    {
      "cell_type": "code",
      "source": [
        "#split into train and test data\n",
        "from sklearn.model_selection import train_test_split\n",
        "\n",
        "df_train, df_test = train_test_split(data, test_size=0.2)\n",
        "print(df_train.columns)"
      ],
      "metadata": {
        "colab": {
          "base_uri": "https://localhost:8080/"
        },
        "id": "QK69K0QtHJ67",
        "outputId": "170f8443-a502-4fee-ddb6-bc4fe27aeee2"
      },
      "execution_count": null,
      "outputs": [
        {
          "output_type": "stream",
          "name": "stdout",
          "text": [
            "Index(['source_node', 'destination_node', 'link', 'num_followers_s',\n",
            "       'num_followers_d', 'num_followees_s', 'num_followees_d',\n",
            "       'inter_followers', 'inter_followees', 'jaccard_followee',\n",
            "       'jaccard_followers', 'cosine_followers', 'shortest_path',\n",
            "       'cosine_followees', 'adar_index', 'page_rank_s', 'page_rank_d',\n",
            "       'katz_s', 'katz_d', 'hubs_s', 'hubs_d', 'authorities_s',\n",
            "       'authorities_d', 'weight_in', 'weight_out', 'weight_total',\n",
            "       'follows_back'],\n",
            "      dtype='object')\n"
          ]
        }
      ]
    },
    {
      "cell_type": "code",
      "source": [
        "#drop the rows which have nan values\n",
        "X_train=df_train.drop(['source_node','destination_node','link'],axis=1)\n",
        "y_train=df_train.link\n",
        "X_test=df_test.drop(['source_node','destination_node','link'],axis=1)\n",
        "y_test=df_test.link"
      ],
      "metadata": {
        "id": "9o4KcmkVdack"
      },
      "execution_count": null,
      "outputs": []
    },
    {
      "cell_type": "code",
      "source": [
        ""
      ],
      "metadata": {
        "id": "x8uYEtpLU_w0"
      },
      "execution_count": null,
      "outputs": []
    },
    {
      "cell_type": "code",
      "source": [
        "#random forest\n",
        "X_train.tail()"
      ],
      "metadata": {
        "colab": {
          "base_uri": "https://localhost:8080/",
          "height": 386
        },
        "id": "cZ9XB_Tp-zWI",
        "outputId": "fed621c5-d806-42f4-dcea-a9fd30af9cfe"
      },
      "execution_count": null,
      "outputs": [
        {
          "output_type": "execute_result",
          "data": {
            "text/plain": [
              "         num_followers_s  num_followers_d  num_followees_s  num_followees_d  \\\n",
              "3171001                0                0                0                0   \n",
              "3171002                0                0                0                0   \n",
              "3171003                0                0                0                0   \n",
              "3171004                0                0                0                0   \n",
              "3171005                0                0                0                0   \n",
              "\n",
              "         inter_followers  inter_followees  jaccard_followee  \\\n",
              "3171001              0.0              0.0               0.0   \n",
              "3171002              0.0              0.0               0.0   \n",
              "3171003              0.0              0.0               0.0   \n",
              "3171004              0.0              0.0               0.0   \n",
              "3171005              0.0              0.0               0.0   \n",
              "\n",
              "         jaccard_followers  cosine_followers  shortest_path  ...    katz_s  \\\n",
              "3171001                0.0                 0              0  ...  0.000714   \n",
              "3171002                0.0                 0              0  ...  0.000714   \n",
              "3171003                0.0                 0              0  ...  0.000714   \n",
              "3171004                0.0                 0              0  ...  0.001410   \n",
              "3171005                0.0                 0              0  ...  0.000718   \n",
              "\n",
              "           katz_d        hubs_s        hubs_d  authorities_s  authorities_d  \\\n",
              "3171001  0.000778  2.677555e-17  3.254146e-16   2.677555e-17   3.254146e-16   \n",
              "3171002  0.000747  4.551810e-19  1.792227e-17   4.551810e-19   1.792227e-17   \n",
              "3171003  0.000729  4.649254e-21  1.670135e-17   4.649254e-21   1.670135e-17   \n",
              "3171004  0.000877  1.422117e-12  3.832234e-13   1.422117e-12   3.832234e-13   \n",
              "3171005  0.000717  1.093438e-16  2.891269e-20   1.093438e-16   2.891269e-20   \n",
              "\n",
              "         weight_in  weight_out  weight_total  follows_back  \n",
              "3171001   0.235702    0.707107      0.942809             1  \n",
              "3171002   0.301511    0.500000      0.801511             1  \n",
              "3171003   0.408248    0.707107      1.115355             1  \n",
              "3171004   0.166667    0.081650      0.248316             1  \n",
              "3171005   0.577350    0.577350      1.154701             0  \n",
              "\n",
              "[5 rows x 24 columns]"
            ],
            "text/html": [
              "\n",
              "  <div id=\"df-c31ccf54-832a-4f88-806e-20f05a1491b2\">\n",
              "    <div class=\"colab-df-container\">\n",
              "      <div>\n",
              "<style scoped>\n",
              "    .dataframe tbody tr th:only-of-type {\n",
              "        vertical-align: middle;\n",
              "    }\n",
              "\n",
              "    .dataframe tbody tr th {\n",
              "        vertical-align: top;\n",
              "    }\n",
              "\n",
              "    .dataframe thead th {\n",
              "        text-align: right;\n",
              "    }\n",
              "</style>\n",
              "<table border=\"1\" class=\"dataframe\">\n",
              "  <thead>\n",
              "    <tr style=\"text-align: right;\">\n",
              "      <th></th>\n",
              "      <th>num_followers_s</th>\n",
              "      <th>num_followers_d</th>\n",
              "      <th>num_followees_s</th>\n",
              "      <th>num_followees_d</th>\n",
              "      <th>inter_followers</th>\n",
              "      <th>inter_followees</th>\n",
              "      <th>jaccard_followee</th>\n",
              "      <th>jaccard_followers</th>\n",
              "      <th>cosine_followers</th>\n",
              "      <th>shortest_path</th>\n",
              "      <th>...</th>\n",
              "      <th>katz_s</th>\n",
              "      <th>katz_d</th>\n",
              "      <th>hubs_s</th>\n",
              "      <th>hubs_d</th>\n",
              "      <th>authorities_s</th>\n",
              "      <th>authorities_d</th>\n",
              "      <th>weight_in</th>\n",
              "      <th>weight_out</th>\n",
              "      <th>weight_total</th>\n",
              "      <th>follows_back</th>\n",
              "    </tr>\n",
              "  </thead>\n",
              "  <tbody>\n",
              "    <tr>\n",
              "      <th>3171001</th>\n",
              "      <td>0</td>\n",
              "      <td>0</td>\n",
              "      <td>0</td>\n",
              "      <td>0</td>\n",
              "      <td>0.0</td>\n",
              "      <td>0.0</td>\n",
              "      <td>0.0</td>\n",
              "      <td>0.0</td>\n",
              "      <td>0</td>\n",
              "      <td>0</td>\n",
              "      <td>...</td>\n",
              "      <td>0.000714</td>\n",
              "      <td>0.000778</td>\n",
              "      <td>2.677555e-17</td>\n",
              "      <td>3.254146e-16</td>\n",
              "      <td>2.677555e-17</td>\n",
              "      <td>3.254146e-16</td>\n",
              "      <td>0.235702</td>\n",
              "      <td>0.707107</td>\n",
              "      <td>0.942809</td>\n",
              "      <td>1</td>\n",
              "    </tr>\n",
              "    <tr>\n",
              "      <th>3171002</th>\n",
              "      <td>0</td>\n",
              "      <td>0</td>\n",
              "      <td>0</td>\n",
              "      <td>0</td>\n",
              "      <td>0.0</td>\n",
              "      <td>0.0</td>\n",
              "      <td>0.0</td>\n",
              "      <td>0.0</td>\n",
              "      <td>0</td>\n",
              "      <td>0</td>\n",
              "      <td>...</td>\n",
              "      <td>0.000714</td>\n",
              "      <td>0.000747</td>\n",
              "      <td>4.551810e-19</td>\n",
              "      <td>1.792227e-17</td>\n",
              "      <td>4.551810e-19</td>\n",
              "      <td>1.792227e-17</td>\n",
              "      <td>0.301511</td>\n",
              "      <td>0.500000</td>\n",
              "      <td>0.801511</td>\n",
              "      <td>1</td>\n",
              "    </tr>\n",
              "    <tr>\n",
              "      <th>3171003</th>\n",
              "      <td>0</td>\n",
              "      <td>0</td>\n",
              "      <td>0</td>\n",
              "      <td>0</td>\n",
              "      <td>0.0</td>\n",
              "      <td>0.0</td>\n",
              "      <td>0.0</td>\n",
              "      <td>0.0</td>\n",
              "      <td>0</td>\n",
              "      <td>0</td>\n",
              "      <td>...</td>\n",
              "      <td>0.000714</td>\n",
              "      <td>0.000729</td>\n",
              "      <td>4.649254e-21</td>\n",
              "      <td>1.670135e-17</td>\n",
              "      <td>4.649254e-21</td>\n",
              "      <td>1.670135e-17</td>\n",
              "      <td>0.408248</td>\n",
              "      <td>0.707107</td>\n",
              "      <td>1.115355</td>\n",
              "      <td>1</td>\n",
              "    </tr>\n",
              "    <tr>\n",
              "      <th>3171004</th>\n",
              "      <td>0</td>\n",
              "      <td>0</td>\n",
              "      <td>0</td>\n",
              "      <td>0</td>\n",
              "      <td>0.0</td>\n",
              "      <td>0.0</td>\n",
              "      <td>0.0</td>\n",
              "      <td>0.0</td>\n",
              "      <td>0</td>\n",
              "      <td>0</td>\n",
              "      <td>...</td>\n",
              "      <td>0.001410</td>\n",
              "      <td>0.000877</td>\n",
              "      <td>1.422117e-12</td>\n",
              "      <td>3.832234e-13</td>\n",
              "      <td>1.422117e-12</td>\n",
              "      <td>3.832234e-13</td>\n",
              "      <td>0.166667</td>\n",
              "      <td>0.081650</td>\n",
              "      <td>0.248316</td>\n",
              "      <td>1</td>\n",
              "    </tr>\n",
              "    <tr>\n",
              "      <th>3171005</th>\n",
              "      <td>0</td>\n",
              "      <td>0</td>\n",
              "      <td>0</td>\n",
              "      <td>0</td>\n",
              "      <td>0.0</td>\n",
              "      <td>0.0</td>\n",
              "      <td>0.0</td>\n",
              "      <td>0.0</td>\n",
              "      <td>0</td>\n",
              "      <td>0</td>\n",
              "      <td>...</td>\n",
              "      <td>0.000718</td>\n",
              "      <td>0.000717</td>\n",
              "      <td>1.093438e-16</td>\n",
              "      <td>2.891269e-20</td>\n",
              "      <td>1.093438e-16</td>\n",
              "      <td>2.891269e-20</td>\n",
              "      <td>0.577350</td>\n",
              "      <td>0.577350</td>\n",
              "      <td>1.154701</td>\n",
              "      <td>0</td>\n",
              "    </tr>\n",
              "  </tbody>\n",
              "</table>\n",
              "<p>5 rows × 24 columns</p>\n",
              "</div>\n",
              "      <button class=\"colab-df-convert\" onclick=\"convertToInteractive('df-c31ccf54-832a-4f88-806e-20f05a1491b2')\"\n",
              "              title=\"Convert this dataframe to an interactive table.\"\n",
              "              style=\"display:none;\">\n",
              "        \n",
              "  <svg xmlns=\"http://www.w3.org/2000/svg\" height=\"24px\"viewBox=\"0 0 24 24\"\n",
              "       width=\"24px\">\n",
              "    <path d=\"M0 0h24v24H0V0z\" fill=\"none\"/>\n",
              "    <path d=\"M18.56 5.44l.94 2.06.94-2.06 2.06-.94-2.06-.94-.94-2.06-.94 2.06-2.06.94zm-11 1L8.5 8.5l.94-2.06 2.06-.94-2.06-.94L8.5 2.5l-.94 2.06-2.06.94zm10 10l.94 2.06.94-2.06 2.06-.94-2.06-.94-.94-2.06-.94 2.06-2.06.94z\"/><path d=\"M17.41 7.96l-1.37-1.37c-.4-.4-.92-.59-1.43-.59-.52 0-1.04.2-1.43.59L10.3 9.45l-7.72 7.72c-.78.78-.78 2.05 0 2.83L4 21.41c.39.39.9.59 1.41.59.51 0 1.02-.2 1.41-.59l7.78-7.78 2.81-2.81c.8-.78.8-2.07 0-2.86zM5.41 20L4 18.59l7.72-7.72 1.47 1.35L5.41 20z\"/>\n",
              "  </svg>\n",
              "      </button>\n",
              "      \n",
              "  <style>\n",
              "    .colab-df-container {\n",
              "      display:flex;\n",
              "      flex-wrap:wrap;\n",
              "      gap: 12px;\n",
              "    }\n",
              "\n",
              "    .colab-df-convert {\n",
              "      background-color: #E8F0FE;\n",
              "      border: none;\n",
              "      border-radius: 50%;\n",
              "      cursor: pointer;\n",
              "      display: none;\n",
              "      fill: #1967D2;\n",
              "      height: 32px;\n",
              "      padding: 0 0 0 0;\n",
              "      width: 32px;\n",
              "    }\n",
              "\n",
              "    .colab-df-convert:hover {\n",
              "      background-color: #E2EBFA;\n",
              "      box-shadow: 0px 1px 2px rgba(60, 64, 67, 0.3), 0px 1px 3px 1px rgba(60, 64, 67, 0.15);\n",
              "      fill: #174EA6;\n",
              "    }\n",
              "\n",
              "    [theme=dark] .colab-df-convert {\n",
              "      background-color: #3B4455;\n",
              "      fill: #D2E3FC;\n",
              "    }\n",
              "\n",
              "    [theme=dark] .colab-df-convert:hover {\n",
              "      background-color: #434B5C;\n",
              "      box-shadow: 0px 1px 3px 1px rgba(0, 0, 0, 0.15);\n",
              "      filter: drop-shadow(0px 1px 2px rgba(0, 0, 0, 0.3));\n",
              "      fill: #FFFFFF;\n",
              "    }\n",
              "  </style>\n",
              "\n",
              "      <script>\n",
              "        const buttonEl =\n",
              "          document.querySelector('#df-c31ccf54-832a-4f88-806e-20f05a1491b2 button.colab-df-convert');\n",
              "        buttonEl.style.display =\n",
              "          google.colab.kernel.accessAllowed ? 'block' : 'none';\n",
              "\n",
              "        async function convertToInteractive(key) {\n",
              "          const element = document.querySelector('#df-c31ccf54-832a-4f88-806e-20f05a1491b2');\n",
              "          const dataTable =\n",
              "            await google.colab.kernel.invokeFunction('convertToInteractive',\n",
              "                                                     [key], {});\n",
              "          if (!dataTable) return;\n",
              "\n",
              "          const docLinkHtml = 'Like what you see? Visit the ' +\n",
              "            '<a target=\"_blank\" href=https://colab.research.google.com/notebooks/data_table.ipynb>data table notebook</a>'\n",
              "            + ' to learn more about interactive tables.';\n",
              "          element.innerHTML = '';\n",
              "          dataTable['output_type'] = 'display_data';\n",
              "          await google.colab.output.renderOutput(dataTable, element);\n",
              "          const docLink = document.createElement('div');\n",
              "          docLink.innerHTML = docLinkHtml;\n",
              "          element.appendChild(docLink);\n",
              "        }\n",
              "      </script>\n",
              "    </div>\n",
              "  </div>\n",
              "  "
            ]
          },
          "metadata": {},
          "execution_count": 32
        }
      ]
    },
    {
      "cell_type": "code",
      "source": [
        "#n_estimators and depths are choosen as hyperparameters\n",
        "n_estimators=[60,80,90]\n",
        "depths=[35,50, 70]\n",
        "random_grid = {'n_estimators': n_estimators,'max_depth':depths,\n",
        "              }\n",
        "\n",
        "model1 = RandomForestClassifier(random_state=25)\n",
        "#model1_random = RandomizedSearchCV(model1, param_distributions=random_grid,n_iter=50,cv=10,scoring='f1',random_state=25)\n",
        "model1_random=GridSearchCV(estimator =model1, param_grid = random_grid, \n",
        "                          cv = 5, n_jobs = -1, verbose = 50,scoring='f1')"
      ],
      "metadata": {
        "id": "o_e-YUVL-zZi"
      },
      "execution_count": null,
      "outputs": []
    },
    {
      "cell_type": "code",
      "source": [
        "#Best parameters on  hyperparaeeter tuning\n",
        "model1_random.fit(X_train,y_train)\n",
        "model1_random.best_params_"
      ],
      "metadata": {
        "colab": {
          "base_uri": "https://localhost:8080/"
        },
        "id": "WIKedWsEODrk",
        "outputId": "e218cedf-e0ef-4e26-dfb2-94ca0fef9a80"
      },
      "execution_count": null,
      "outputs": [
        {
          "output_type": "stream",
          "name": "stdout",
          "text": [
            "Fitting 5 folds for each of 4 candidates, totalling 20 fits\n"
          ]
        },
        {
          "output_type": "execute_result",
          "data": {
            "text/plain": [
              "{'max_depth': 35, 'n_estimators': 90}"
            ]
          },
          "metadata": {},
          "execution_count": 25
        }
      ]
    },
    {
      "cell_type": "code",
      "source": [
        "best_params=model1_random.best_estimator_\n",
        "#grid_accuracy =model1_random.predict(best_params,X_test,y_test)\n",
        "print(best_params)"
      ],
      "metadata": {
        "colab": {
          "base_uri": "https://localhost:8080/"
        },
        "id": "ukC0f3Nzdek5",
        "outputId": "dec7f0d2-a211-4ae9-83ee-8a9a4c5801e9"
      },
      "execution_count": null,
      "outputs": [
        {
          "output_type": "stream",
          "name": "stdout",
          "text": [
            "RandomForestClassifier(max_depth=35, n_estimators=90, random_state=25)\n"
          ]
        }
      ]
    },
    {
      "cell_type": "code",
      "source": [
        "train_score = f1_score(y_train,model1_random.predict(X_train))\n",
        "test_score = f1_score(y_test,model1_random.predict(X_test))"
      ],
      "metadata": {
        "id": "_HwKbH8XPqaw"
      },
      "execution_count": null,
      "outputs": []
    },
    {
      "cell_type": "code",
      "source": [
        "#Train and test f1-score for Random-Forests\n",
        "print(\"train f1-score is\",train_score)\n",
        "print(\"test f1-score is\",test_score)"
      ],
      "metadata": {
        "id": "a7dUrOizPqeY",
        "colab": {
          "base_uri": "https://localhost:8080/"
        },
        "outputId": "90fb07b9-23a3-4680-f7c7-6f5ddc59d3af"
      },
      "execution_count": null,
      "outputs": [
        {
          "output_type": "stream",
          "name": "stdout",
          "text": [
            "train f1-score is 0.9393492138896016\n",
            "test f1-score is 0.9100050890585242\n"
          ]
        }
      ]
    },
    {
      "cell_type": "code",
      "source": [
        "#code for svm hyperparamter tuning\n",
        "parameter_grid = {'C': [ 10, 50,100],'gamma': [0.01, 0.001,0.0001],'kernel':['rbf']}\n",
        "model2_random=GridSearchCV(estimator =SVC(), param_grid = parameter_grid, \n",
        "                          cv =5, n_jobs = -1, verbose = 50,scoring='f1')              "
      ],
      "metadata": {
        "id": "OHbFk4gjPqhr"
      },
      "execution_count": null,
      "outputs": []
    },
    {
      "cell_type": "code",
      "source": [
        "model2_random.fit(X_train,y_train)\n",
        "model2_random.best_params_"
      ],
      "metadata": {
        "id": "FOr8VUJBPqk3",
        "colab": {
          "base_uri": "https://localhost:8080/"
        },
        "outputId": "8be8c92d-b421-4beb-f2a6-f16bd6a94894"
      },
      "execution_count": null,
      "outputs": [
        {
          "metadata": {
            "tags": null
          },
          "name": "stdout",
          "output_type": "stream",
          "text": [
            "Fitting 5 folds for each of 4 candidates, totalling 20 fits\n"
          ]
        },
        {
          "output_type": "execute_result",
          "data": {
            "text/plain": [
              "{'C': 100, 'gamma': 0.001, 'kernel': 'rbf'}"
            ]
          },
          "metadata": {},
          "execution_count": 11
        }
      ]
    },
    {
      "cell_type": "code",
      "source": [
        "#We trained the model in HPC contaier environment and not in colab as it was taking many hours in colab and we have time constaints in colab\n",
        "#The file for that will be uploaded"
      ],
      "metadata": {
        "id": "aNe0BWNeavpN"
      },
      "execution_count": null,
      "outputs": []
    }
  ],
  "metadata": {
    "kernelspec": {
      "display_name": "Python 3",
      "language": "python",
      "name": "python3"
    },
    "language_info": {
      "codemirror_mode": {
        "name": "ipython",
        "version": 3
      },
      "file_extension": ".py",
      "mimetype": "text/x-python",
      "name": "python",
      "nbconvert_exporter": "python",
      "pygments_lexer": "ipython3",
      "version": "3.8.5"
    },
    "colab": {
      "name": "Social-Computing Project code.ipynb",
      "provenance": [],
      "collapsed_sections": []
    },
    "accelerator": "GPU"
  },
  "nbformat": 4,
  "nbformat_minor": 0
}